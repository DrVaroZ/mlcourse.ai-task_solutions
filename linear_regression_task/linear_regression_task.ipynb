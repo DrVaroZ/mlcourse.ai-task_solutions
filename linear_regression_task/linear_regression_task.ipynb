{
 "cells": [
  {
   "cell_type": "code",
   "execution_count": 1,
   "id": "b3f9a3a3",
   "metadata": {},
   "outputs": [],
   "source": [
    "import warnings\n",
    "warnings.filterwarnings(\"ignore\")\n",
    "\n",
    "import numpy as np\n",
    "import pandas as pd\n",
    "from sklearn.ensemble import RandomForestRegressor\n",
    "from sklearn.linear_model import Lasso, LassoCV, LinearRegression\n",
    "from sklearn.metrics import mean_squared_error\n",
    "from sklearn.model_selection import (GridSearchCV, cross_val_score,\n",
    "                                     train_test_split)\n",
    "from sklearn.preprocessing import StandardScaler"
   ]
  },
  {
   "cell_type": "code",
   "execution_count": 2,
   "id": "04eeb8c0",
   "metadata": {},
   "outputs": [],
   "source": [
    "# for Jupyter-book, we copy data from GitHub, locally, to save Internet traffic,\n",
    "# you can specify the data/ folder from the root of your cloned\n",
    "# https://github.com/Yorko/mlcourse.ai repo, to save Internet traffic\n",
    "DATA_PATH = \"https://raw.githubusercontent.com/Yorko/mlcourse.ai/master/data/\""
   ]
  },
  {
   "cell_type": "code",
   "execution_count": 3,
   "id": "dfd74613",
   "metadata": {},
   "outputs": [],
   "source": [
    "data = pd.read_csv(DATA_PATH + \"winequality-white.csv\", sep=\";\")"
   ]
  },
  {
   "cell_type": "code",
   "execution_count": 4,
   "id": "90e0ed3a",
   "metadata": {},
   "outputs": [
    {
     "data": {
      "text/html": [
       "<div>\n",
       "<style scoped>\n",
       "    .dataframe tbody tr th:only-of-type {\n",
       "        vertical-align: middle;\n",
       "    }\n",
       "\n",
       "    .dataframe tbody tr th {\n",
       "        vertical-align: top;\n",
       "    }\n",
       "\n",
       "    .dataframe thead th {\n",
       "        text-align: right;\n",
       "    }\n",
       "</style>\n",
       "<table border=\"1\" class=\"dataframe\">\n",
       "  <thead>\n",
       "    <tr style=\"text-align: right;\">\n",
       "      <th></th>\n",
       "      <th>fixed acidity</th>\n",
       "      <th>volatile acidity</th>\n",
       "      <th>citric acid</th>\n",
       "      <th>residual sugar</th>\n",
       "      <th>chlorides</th>\n",
       "      <th>free sulfur dioxide</th>\n",
       "      <th>total sulfur dioxide</th>\n",
       "      <th>density</th>\n",
       "      <th>pH</th>\n",
       "      <th>sulphates</th>\n",
       "      <th>alcohol</th>\n",
       "      <th>quality</th>\n",
       "    </tr>\n",
       "  </thead>\n",
       "  <tbody>\n",
       "    <tr>\n",
       "      <th>0</th>\n",
       "      <td>7.0</td>\n",
       "      <td>0.27</td>\n",
       "      <td>0.36</td>\n",
       "      <td>20.7</td>\n",
       "      <td>0.045</td>\n",
       "      <td>45.0</td>\n",
       "      <td>170.0</td>\n",
       "      <td>1.0010</td>\n",
       "      <td>3.00</td>\n",
       "      <td>0.45</td>\n",
       "      <td>8.8</td>\n",
       "      <td>6</td>\n",
       "    </tr>\n",
       "    <tr>\n",
       "      <th>1</th>\n",
       "      <td>6.3</td>\n",
       "      <td>0.30</td>\n",
       "      <td>0.34</td>\n",
       "      <td>1.6</td>\n",
       "      <td>0.049</td>\n",
       "      <td>14.0</td>\n",
       "      <td>132.0</td>\n",
       "      <td>0.9940</td>\n",
       "      <td>3.30</td>\n",
       "      <td>0.49</td>\n",
       "      <td>9.5</td>\n",
       "      <td>6</td>\n",
       "    </tr>\n",
       "    <tr>\n",
       "      <th>2</th>\n",
       "      <td>8.1</td>\n",
       "      <td>0.28</td>\n",
       "      <td>0.40</td>\n",
       "      <td>6.9</td>\n",
       "      <td>0.050</td>\n",
       "      <td>30.0</td>\n",
       "      <td>97.0</td>\n",
       "      <td>0.9951</td>\n",
       "      <td>3.26</td>\n",
       "      <td>0.44</td>\n",
       "      <td>10.1</td>\n",
       "      <td>6</td>\n",
       "    </tr>\n",
       "    <tr>\n",
       "      <th>3</th>\n",
       "      <td>7.2</td>\n",
       "      <td>0.23</td>\n",
       "      <td>0.32</td>\n",
       "      <td>8.5</td>\n",
       "      <td>0.058</td>\n",
       "      <td>47.0</td>\n",
       "      <td>186.0</td>\n",
       "      <td>0.9956</td>\n",
       "      <td>3.19</td>\n",
       "      <td>0.40</td>\n",
       "      <td>9.9</td>\n",
       "      <td>6</td>\n",
       "    </tr>\n",
       "    <tr>\n",
       "      <th>4</th>\n",
       "      <td>7.2</td>\n",
       "      <td>0.23</td>\n",
       "      <td>0.32</td>\n",
       "      <td>8.5</td>\n",
       "      <td>0.058</td>\n",
       "      <td>47.0</td>\n",
       "      <td>186.0</td>\n",
       "      <td>0.9956</td>\n",
       "      <td>3.19</td>\n",
       "      <td>0.40</td>\n",
       "      <td>9.9</td>\n",
       "      <td>6</td>\n",
       "    </tr>\n",
       "  </tbody>\n",
       "</table>\n",
       "</div>"
      ],
      "text/plain": [
       "   fixed acidity  volatile acidity  citric acid  residual sugar  chlorides  \\\n",
       "0            7.0              0.27         0.36            20.7      0.045   \n",
       "1            6.3              0.30         0.34             1.6      0.049   \n",
       "2            8.1              0.28         0.40             6.9      0.050   \n",
       "3            7.2              0.23         0.32             8.5      0.058   \n",
       "4            7.2              0.23         0.32             8.5      0.058   \n",
       "\n",
       "   free sulfur dioxide  total sulfur dioxide  density    pH  sulphates  \\\n",
       "0                 45.0                 170.0   1.0010  3.00       0.45   \n",
       "1                 14.0                 132.0   0.9940  3.30       0.49   \n",
       "2                 30.0                  97.0   0.9951  3.26       0.44   \n",
       "3                 47.0                 186.0   0.9956  3.19       0.40   \n",
       "4                 47.0                 186.0   0.9956  3.19       0.40   \n",
       "\n",
       "   alcohol  quality  \n",
       "0      8.8        6  \n",
       "1      9.5        6  \n",
       "2     10.1        6  \n",
       "3      9.9        6  \n",
       "4      9.9        6  "
      ]
     },
     "execution_count": 4,
     "metadata": {},
     "output_type": "execute_result"
    }
   ],
   "source": [
    "data.head()"
   ]
  },
  {
   "cell_type": "code",
   "execution_count": 5,
   "id": "e0cbdf65",
   "metadata": {},
   "outputs": [
    {
     "name": "stdout",
     "output_type": "stream",
     "text": [
      "<class 'pandas.core.frame.DataFrame'>\n",
      "RangeIndex: 4898 entries, 0 to 4897\n",
      "Data columns (total 12 columns):\n",
      " #   Column                Non-Null Count  Dtype  \n",
      "---  ------                --------------  -----  \n",
      " 0   fixed acidity         4898 non-null   float64\n",
      " 1   volatile acidity      4898 non-null   float64\n",
      " 2   citric acid           4898 non-null   float64\n",
      " 3   residual sugar        4898 non-null   float64\n",
      " 4   chlorides             4898 non-null   float64\n",
      " 5   free sulfur dioxide   4898 non-null   float64\n",
      " 6   total sulfur dioxide  4898 non-null   float64\n",
      " 7   density               4898 non-null   float64\n",
      " 8   pH                    4898 non-null   float64\n",
      " 9   sulphates             4898 non-null   float64\n",
      " 10  alcohol               4898 non-null   float64\n",
      " 11  quality               4898 non-null   int64  \n",
      "dtypes: float64(11), int64(1)\n",
      "memory usage: 459.3 KB\n"
     ]
    }
   ],
   "source": [
    "data.info()"
   ]
  },
  {
   "cell_type": "code",
   "execution_count": 6,
   "id": "74f03bf0",
   "metadata": {},
   "outputs": [],
   "source": [
    "#X_train = data.iloc[:3428, :11].values\n",
    "#y_train = data.iloc[:3428, 11].values"
   ]
  },
  {
   "cell_type": "code",
   "execution_count": 7,
   "id": "ee9d7d7c",
   "metadata": {},
   "outputs": [],
   "source": [
    "#X_train.shape\n",
    "# print(x_train)"
   ]
  },
  {
   "cell_type": "code",
   "execution_count": 8,
   "id": "e3cc0c5b",
   "metadata": {},
   "outputs": [],
   "source": [
    "#y_train.shape\n",
    "# print(y_train)"
   ]
  },
  {
   "cell_type": "code",
   "execution_count": 9,
   "id": "a2cbe20d",
   "metadata": {},
   "outputs": [],
   "source": [
    "#data[\"quality\"].count()"
   ]
  },
  {
   "cell_type": "code",
   "execution_count": 10,
   "id": "acb85238",
   "metadata": {},
   "outputs": [],
   "source": [
    "#X_test = data.iloc[3428:, :11].values\n",
    "#y_test = data.iloc[3428:, 11].values"
   ]
  },
  {
   "cell_type": "code",
   "execution_count": 11,
   "id": "d45ed6d0",
   "metadata": {},
   "outputs": [],
   "source": [
    "#X_test.shape"
   ]
  },
  {
   "cell_type": "code",
   "execution_count": 12,
   "id": "762090ff",
   "metadata": {},
   "outputs": [],
   "source": [
    "#y_test.shape"
   ]
  },
  {
   "cell_type": "code",
   "execution_count": 13,
   "id": "d177b6d2",
   "metadata": {},
   "outputs": [],
   "source": [
    "#X = data.iloc[:, :11].values\n",
    "#y = data.iloc[:, 11].values\n",
    "\n",
    "y = data['quality']\n",
    "X = data.drop('quality', axis=1)"
   ]
  },
  {
   "cell_type": "code",
   "execution_count": 14,
   "id": "1c228f9a",
   "metadata": {},
   "outputs": [],
   "source": [
    "X_train, X_test, y_train, y_test = train_test_split(X, y, test_size=0.3, random_state=17)"
   ]
  },
  {
   "cell_type": "code",
   "execution_count": 15,
   "id": "aa39a1db",
   "metadata": {},
   "outputs": [],
   "source": [
    "scaler = StandardScaler()\n",
    "X_train_scaled = scaler.fit_transform(X_train, y_train)"
   ]
  },
  {
   "cell_type": "code",
   "execution_count": 16,
   "id": "532a8371",
   "metadata": {},
   "outputs": [
    {
     "name": "stdout",
     "output_type": "stream",
     "text": [
      "[[-0.99273     0.58375489  2.64116886 ... -0.32100149  0.10300887\n",
      "  -1.41119853]\n",
      " [-0.41141461  0.38747125 -0.84407222 ... -0.05551066 -0.25313273\n",
      "  -0.51729161]\n",
      " [ 0.16990079  0.28932942  1.50643921 ... -0.78561044 -0.52023894\n",
      "  -0.11097029]\n",
      " ...\n",
      " [-1.22525616 -0.00509605  0.04750108 ...  1.33831618 -0.87638054\n",
      "   1.83937207]\n",
      " [ 2.72768852 -0.49580516  0.1285532  ... -0.65286502 -1.49962834\n",
      "  -0.67982014]\n",
      " [-1.10899308  0.1911876  -0.27670739 ...  1.47106159 -0.69830974\n",
      "   1.92063633]]\n"
     ]
    }
   ],
   "source": [
    "print(X_train_scaled)"
   ]
  },
  {
   "cell_type": "code",
   "execution_count": 17,
   "id": "51cc6e00",
   "metadata": {},
   "outputs": [],
   "source": [
    "X_test_scaled = scaler.transform(X_test)"
   ]
  },
  {
   "cell_type": "code",
   "execution_count": 18,
   "id": "a5cf199f",
   "metadata": {},
   "outputs": [
    {
     "name": "stdout",
     "output_type": "stream",
     "text": [
      "[[ 0.40242694 -0.29952151 -0.43881163 ... -0.4537469  -0.96541594\n",
      "  -1.24867   ]\n",
      " [-0.29515153 -0.29952151 -0.11460316 ... -1.51571021  0.28107967\n",
      "   0.45787957]\n",
      " [ 0.16990079 -1.57536521 -0.43881163 ...  2.06841596 -0.43120354\n",
      "  -0.76108441]\n",
      " ...\n",
      " [-0.52767769 -0.20137969 -0.7630201  ...  0.20998017  0.01397347\n",
      "   1.67684354]\n",
      " [-2.27162387  0.6328258   0.04750108 ...  0.34272558 -0.78734514\n",
      "  -0.35476308]\n",
      " [-2.27162387  0.53468398 -1.57354128 ...  1.86929784 -0.25313273\n",
      "  -0.05679411]]\n"
     ]
    }
   ],
   "source": [
    "print(X_test_scaled)"
   ]
  },
  {
   "cell_type": "code",
   "execution_count": 19,
   "id": "cf4da6ca",
   "metadata": {},
   "outputs": [],
   "source": [
    "linreg = LinearRegression()\n",
    "linreg_model = linreg.fit(X_train_scaled, y_train)"
   ]
  },
  {
   "cell_type": "code",
   "execution_count": 20,
   "id": "9542253a",
   "metadata": {},
   "outputs": [
    {
     "data": {
      "text/plain": [
       "0.2904316386901199"
      ]
     },
     "execution_count": 20,
     "metadata": {},
     "output_type": "execute_result"
    }
   ],
   "source": [
    "linreg_model.score(X_train_scaled, y_train)"
   ]
  },
  {
   "cell_type": "markdown",
   "id": "34a80d79",
   "metadata": {},
   "source": [
    "# Task 1"
   ]
  },
  {
   "cell_type": "markdown",
   "id": "ef2915a3",
   "metadata": {},
   "source": [
    "mean squared error of the train dataset"
   ]
  },
  {
   "cell_type": "code",
   "execution_count": 21,
   "id": "bd0cad39",
   "metadata": {},
   "outputs": [],
   "source": [
    "y_train_predicted = linreg_model.predict(X_train_scaled)"
   ]
  },
  {
   "cell_type": "code",
   "execution_count": 22,
   "id": "31b1973e",
   "metadata": {},
   "outputs": [
    {
     "name": "stdout",
     "output_type": "stream",
     "text": [
      "[5.57047067 5.43683851 5.56141314 ... 6.87916139 5.48987436 6.84181167]\n"
     ]
    }
   ],
   "source": [
    "print(y_train_predicted)"
   ]
  },
  {
   "cell_type": "code",
   "execution_count": 23,
   "id": "77f43b12",
   "metadata": {},
   "outputs": [
    {
     "data": {
      "text/plain": [
       "0.5580606489803572"
      ]
     },
     "execution_count": 23,
     "metadata": {},
     "output_type": "execute_result"
    }
   ],
   "source": [
    "mean_squared_error(y_train, y_train_predicted)"
   ]
  },
  {
   "cell_type": "code",
   "execution_count": 24,
   "id": "07c03ac3",
   "metadata": {},
   "outputs": [
    {
     "data": {
      "text/plain": [
       "0.24987105940272625"
      ]
     },
     "execution_count": 24,
     "metadata": {},
     "output_type": "execute_result"
    }
   ],
   "source": [
    "linreg_model.score(X_test_scaled, y_test)"
   ]
  },
  {
   "cell_type": "code",
   "execution_count": 25,
   "id": "026748a8",
   "metadata": {},
   "outputs": [],
   "source": [
    "y_test_predicted = linreg_model.predict(X_test_scaled)"
   ]
  },
  {
   "cell_type": "code",
   "execution_count": 26,
   "id": "3d9df080",
   "metadata": {},
   "outputs": [
    {
     "data": {
      "text/plain": [
       "0.5842473102404545"
      ]
     },
     "execution_count": 26,
     "metadata": {},
     "output_type": "execute_result"
    }
   ],
   "source": [
    "mean_squared_error(y_test, y_test_predicted)"
   ]
  },
  {
   "cell_type": "markdown",
   "id": "d385b4fc",
   "metadata": {},
   "source": [
    "mean squared error on the test dataset"
   ]
  },
  {
   "cell_type": "markdown",
   "id": "cf007192",
   "metadata": {},
   "source": [
    "# Task 2"
   ]
  },
  {
   "cell_type": "code",
   "execution_count": 27,
   "id": "700fb45d",
   "metadata": {},
   "outputs": [
    {
     "data": {
      "text/plain": [
       "{'copy_X': True,\n",
       " 'fit_intercept': True,\n",
       " 'n_jobs': None,\n",
       " 'normalize': 'deprecated',\n",
       " 'positive': False}"
      ]
     },
     "execution_count": 27,
     "metadata": {},
     "output_type": "execute_result"
    }
   ],
   "source": [
    "linreg_model.get_params()"
   ]
  },
  {
   "cell_type": "code",
   "execution_count": 28,
   "id": "fe8cf088",
   "metadata": {},
   "outputs": [],
   "source": [
    "linreg_coeffs = pd.DataFrame(linreg.coef_, X.columns, columns=['Coefficients'])"
   ]
  },
  {
   "cell_type": "code",
   "execution_count": 29,
   "id": "fc88b8e0",
   "metadata": {},
   "outputs": [
    {
     "name": "stdout",
     "output_type": "stream",
     "text": [
      "                      Coefficients\n",
      "fixed acidity             0.097822\n",
      "volatile acidity         -0.192260\n",
      "citric acid              -0.000183\n",
      "residual sugar            0.538164\n",
      "chlorides                 0.008127\n",
      "free sulfur dioxide       0.042180\n",
      "total sulfur dioxide      0.014304\n",
      "density                  -0.665720\n",
      "pH                        0.150036\n",
      "sulphates                 0.062053\n",
      "alcohol                   0.129533\n"
     ]
    }
   ],
   "source": [
    "print(linreg_coeffs)"
   ]
  },
  {
   "cell_type": "code",
   "execution_count": 30,
   "id": "e33f725d",
   "metadata": {},
   "outputs": [
    {
     "data": {
      "text/html": [
       "<div>\n",
       "<style scoped>\n",
       "    .dataframe tbody tr th:only-of-type {\n",
       "        vertical-align: middle;\n",
       "    }\n",
       "\n",
       "    .dataframe tbody tr th {\n",
       "        vertical-align: top;\n",
       "    }\n",
       "\n",
       "    .dataframe thead th {\n",
       "        text-align: right;\n",
       "    }\n",
       "</style>\n",
       "<table border=\"1\" class=\"dataframe\">\n",
       "  <thead>\n",
       "    <tr style=\"text-align: right;\">\n",
       "      <th></th>\n",
       "      <th>Coefficients</th>\n",
       "    </tr>\n",
       "  </thead>\n",
       "  <tbody>\n",
       "    <tr>\n",
       "      <th>residual sugar</th>\n",
       "      <td>0.538164</td>\n",
       "    </tr>\n",
       "    <tr>\n",
       "      <th>pH</th>\n",
       "      <td>0.150036</td>\n",
       "    </tr>\n",
       "    <tr>\n",
       "      <th>alcohol</th>\n",
       "      <td>0.129533</td>\n",
       "    </tr>\n",
       "    <tr>\n",
       "      <th>fixed acidity</th>\n",
       "      <td>0.097822</td>\n",
       "    </tr>\n",
       "    <tr>\n",
       "      <th>sulphates</th>\n",
       "      <td>0.062053</td>\n",
       "    </tr>\n",
       "    <tr>\n",
       "      <th>free sulfur dioxide</th>\n",
       "      <td>0.042180</td>\n",
       "    </tr>\n",
       "    <tr>\n",
       "      <th>total sulfur dioxide</th>\n",
       "      <td>0.014304</td>\n",
       "    </tr>\n",
       "    <tr>\n",
       "      <th>chlorides</th>\n",
       "      <td>0.008127</td>\n",
       "    </tr>\n",
       "    <tr>\n",
       "      <th>citric acid</th>\n",
       "      <td>-0.000183</td>\n",
       "    </tr>\n",
       "    <tr>\n",
       "      <th>volatile acidity</th>\n",
       "      <td>-0.192260</td>\n",
       "    </tr>\n",
       "    <tr>\n",
       "      <th>density</th>\n",
       "      <td>-0.665720</td>\n",
       "    </tr>\n",
       "  </tbody>\n",
       "</table>\n",
       "</div>"
      ],
      "text/plain": [
       "                      Coefficients\n",
       "residual sugar            0.538164\n",
       "pH                        0.150036\n",
       "alcohol                   0.129533\n",
       "fixed acidity             0.097822\n",
       "sulphates                 0.062053\n",
       "free sulfur dioxide       0.042180\n",
       "total sulfur dioxide      0.014304\n",
       "chlorides                 0.008127\n",
       "citric acid              -0.000183\n",
       "volatile acidity         -0.192260\n",
       "density                  -0.665720"
      ]
     },
     "execution_count": 30,
     "metadata": {},
     "output_type": "execute_result"
    }
   ],
   "source": [
    "linreg_coeffs.sort_values(by=['Coefficients'], ascending=False, axis=0)"
   ]
  },
  {
   "cell_type": "markdown",
   "id": "0aa31cd5",
   "metadata": {},
   "source": [
    "density strongly influences the wine quality in negative way. "
   ]
  },
  {
   "cell_type": "markdown",
   "id": "91f62abb",
   "metadata": {},
   "source": [
    "alcohol also influences the wine quality in positive way but less than density"
   ]
  },
  {
   "cell_type": "markdown",
   "id": "bc4c86c0",
   "metadata": {},
   "source": [
    "# Task 3 "
   ]
  },
  {
   "cell_type": "code",
   "execution_count": 31,
   "id": "6bb36b27",
   "metadata": {},
   "outputs": [
    {
     "data": {
      "text/plain": [
       "Lasso(alpha=0.01, random_state=17)"
      ]
     },
     "execution_count": 31,
     "metadata": {},
     "output_type": "execute_result"
    }
   ],
   "source": [
    "lasso1 = Lasso(alpha=0.01, random_state=17)\n",
    "lasso1.fit(X_train_scaled, y_train)"
   ]
  },
  {
   "cell_type": "code",
   "execution_count": 32,
   "id": "aace1538",
   "metadata": {},
   "outputs": [
    {
     "data": {
      "text/plain": [
       "0.28315074467977797"
      ]
     },
     "execution_count": 32,
     "metadata": {},
     "output_type": "execute_result"
    }
   ],
   "source": [
    "lasso1.score(X_train_scaled, y_train)"
   ]
  },
  {
   "cell_type": "code",
   "execution_count": 33,
   "id": "7a304b8b",
   "metadata": {},
   "outputs": [],
   "source": [
    "lasso1_coeffs = pd.DataFrame(lasso1.coef_, X.columns, columns=['Coefficients'])"
   ]
  },
  {
   "cell_type": "code",
   "execution_count": 34,
   "id": "89e46887",
   "metadata": {},
   "outputs": [
    {
     "name": "stdout",
     "output_type": "stream",
     "text": [
      "                      Coefficients\n",
      "fixed acidity            -0.000000\n",
      "volatile acidity         -0.188479\n",
      "citric acid              -0.000000\n",
      "residual sugar            0.256363\n",
      "chlorides                -0.002747\n",
      "free sulfur dioxide       0.043088\n",
      "total sulfur dioxide     -0.000000\n",
      "density                  -0.235492\n",
      "pH                        0.067277\n",
      "sulphates                 0.029722\n",
      "alcohol                   0.322425\n"
     ]
    }
   ],
   "source": [
    "print(lasso1_coeffs)"
   ]
  },
  {
   "cell_type": "code",
   "execution_count": 35,
   "id": "53cef851",
   "metadata": {},
   "outputs": [
    {
     "data": {
      "text/html": [
       "<div>\n",
       "<style scoped>\n",
       "    .dataframe tbody tr th:only-of-type {\n",
       "        vertical-align: middle;\n",
       "    }\n",
       "\n",
       "    .dataframe tbody tr th {\n",
       "        vertical-align: top;\n",
       "    }\n",
       "\n",
       "    .dataframe thead th {\n",
       "        text-align: right;\n",
       "    }\n",
       "</style>\n",
       "<table border=\"1\" class=\"dataframe\">\n",
       "  <thead>\n",
       "    <tr style=\"text-align: right;\">\n",
       "      <th></th>\n",
       "      <th>Coefficients</th>\n",
       "    </tr>\n",
       "  </thead>\n",
       "  <tbody>\n",
       "    <tr>\n",
       "      <th>alcohol</th>\n",
       "      <td>0.322425</td>\n",
       "    </tr>\n",
       "    <tr>\n",
       "      <th>residual sugar</th>\n",
       "      <td>0.256363</td>\n",
       "    </tr>\n",
       "    <tr>\n",
       "      <th>pH</th>\n",
       "      <td>0.067277</td>\n",
       "    </tr>\n",
       "    <tr>\n",
       "      <th>free sulfur dioxide</th>\n",
       "      <td>0.043088</td>\n",
       "    </tr>\n",
       "    <tr>\n",
       "      <th>sulphates</th>\n",
       "      <td>0.029722</td>\n",
       "    </tr>\n",
       "    <tr>\n",
       "      <th>fixed acidity</th>\n",
       "      <td>-0.000000</td>\n",
       "    </tr>\n",
       "    <tr>\n",
       "      <th>citric acid</th>\n",
       "      <td>-0.000000</td>\n",
       "    </tr>\n",
       "    <tr>\n",
       "      <th>total sulfur dioxide</th>\n",
       "      <td>-0.000000</td>\n",
       "    </tr>\n",
       "    <tr>\n",
       "      <th>chlorides</th>\n",
       "      <td>-0.002747</td>\n",
       "    </tr>\n",
       "    <tr>\n",
       "      <th>volatile acidity</th>\n",
       "      <td>-0.188479</td>\n",
       "    </tr>\n",
       "    <tr>\n",
       "      <th>density</th>\n",
       "      <td>-0.235492</td>\n",
       "    </tr>\n",
       "  </tbody>\n",
       "</table>\n",
       "</div>"
      ],
      "text/plain": [
       "                      Coefficients\n",
       "alcohol                   0.322425\n",
       "residual sugar            0.256363\n",
       "pH                        0.067277\n",
       "free sulfur dioxide       0.043088\n",
       "sulphates                 0.029722\n",
       "fixed acidity            -0.000000\n",
       "citric acid              -0.000000\n",
       "total sulfur dioxide     -0.000000\n",
       "chlorides                -0.002747\n",
       "volatile acidity         -0.188479\n",
       "density                  -0.235492"
      ]
     },
     "execution_count": 35,
     "metadata": {},
     "output_type": "execute_result"
    }
   ],
   "source": [
    "lasso1_coeffs.sort_values(by=['Coefficients'], ascending=False, axis=0)"
   ]
  },
  {
   "cell_type": "markdown",
   "id": "9f140696",
   "metadata": {},
   "source": [
    "fixed acidity, citric acid and total sulfur dioxide have the least impact on wine quality"
   ]
  },
  {
   "cell_type": "code",
   "execution_count": 36,
   "id": "5dc22a96",
   "metadata": {},
   "outputs": [
    {
     "data": {
      "text/plain": [
       "LassoCV(alphas=array([1.00000000e-06, 1.09698580e-06, 1.20337784e-06, 1.32008840e-06,\n",
       "       1.44811823e-06, 1.58856513e-06, 1.74263339e-06, 1.91164408e-06,\n",
       "       2.09704640e-06, 2.30043012e-06, 2.52353917e-06, 2.76828663e-06,\n",
       "       3.03677112e-06, 3.33129479e-06, 3.65438307e-06, 4.00880633e-06,\n",
       "       4.39760361e-06, 4.82410870e-06, 5.29197874e-06, 5.80522552e-06,\n",
       "       6.36824994e-06, 6.98587975e-0...\n",
       "       1.18953407e+01, 1.30490198e+01, 1.43145894e+01, 1.57029012e+01,\n",
       "       1.72258597e+01, 1.88965234e+01, 2.07292178e+01, 2.27396575e+01,\n",
       "       2.49450814e+01, 2.73644000e+01, 3.00183581e+01, 3.29297126e+01,\n",
       "       3.61234270e+01, 3.96268864e+01, 4.34701316e+01, 4.76861170e+01,\n",
       "       5.23109931e+01, 5.73844165e+01, 6.29498899e+01, 6.90551352e+01,\n",
       "       7.57525026e+01, 8.30994195e+01, 9.11588830e+01, 1.00000000e+02]),\n",
       "        random_state=17)"
      ]
     },
     "execution_count": 36,
     "metadata": {},
     "output_type": "execute_result"
    }
   ],
   "source": [
    "alphas = np.logspace(-6, 2, 200)\n",
    "lasso_cv = LassoCV(alphas=alphas, random_state=17)\n",
    "lasso_cv.fit(X_train_scaled, y_train)"
   ]
  },
  {
   "cell_type": "code",
   "execution_count": 37,
   "id": "bc4dec78",
   "metadata": {},
   "outputs": [
    {
     "data": {
      "text/plain": [
       "0.0002833096101839324"
      ]
     },
     "execution_count": 37,
     "metadata": {},
     "output_type": "execute_result"
    }
   ],
   "source": [
    "lasso_cv.alpha_"
   ]
  },
  {
   "cell_type": "code",
   "execution_count": 38,
   "id": "e6828a3c",
   "metadata": {},
   "outputs": [
    {
     "name": "stdout",
     "output_type": "stream",
     "text": [
      "                      Coefficients\n",
      "fixed acidity             0.093295\n",
      "volatile acidity         -0.192049\n",
      "citric acid              -0.000000\n",
      "residual sugar            0.526883\n",
      "chlorides                 0.006933\n",
      "free sulfur dioxide       0.042698\n",
      "total sulfur dioxide      0.012969\n",
      "density                  -0.648161\n",
      "pH                        0.146549\n",
      "sulphates                 0.060939\n",
      "alcohol                   0.137115\n"
     ]
    }
   ],
   "source": [
    "lasso_cv_coeffs = pd.DataFrame(lasso_cv.coef_, X.columns, columns=['Coefficients'])\n",
    "print(lasso_cv_coeffs)"
   ]
  },
  {
   "cell_type": "code",
   "execution_count": 39,
   "id": "20df8f5e",
   "metadata": {},
   "outputs": [
    {
     "data": {
      "text/html": [
       "<div>\n",
       "<style scoped>\n",
       "    .dataframe tbody tr th:only-of-type {\n",
       "        vertical-align: middle;\n",
       "    }\n",
       "\n",
       "    .dataframe tbody tr th {\n",
       "        vertical-align: top;\n",
       "    }\n",
       "\n",
       "    .dataframe thead th {\n",
       "        text-align: right;\n",
       "    }\n",
       "</style>\n",
       "<table border=\"1\" class=\"dataframe\">\n",
       "  <thead>\n",
       "    <tr style=\"text-align: right;\">\n",
       "      <th></th>\n",
       "      <th>Coefficients</th>\n",
       "    </tr>\n",
       "  </thead>\n",
       "  <tbody>\n",
       "    <tr>\n",
       "      <th>residual sugar</th>\n",
       "      <td>0.526883</td>\n",
       "    </tr>\n",
       "    <tr>\n",
       "      <th>pH</th>\n",
       "      <td>0.146549</td>\n",
       "    </tr>\n",
       "    <tr>\n",
       "      <th>alcohol</th>\n",
       "      <td>0.137115</td>\n",
       "    </tr>\n",
       "    <tr>\n",
       "      <th>fixed acidity</th>\n",
       "      <td>0.093295</td>\n",
       "    </tr>\n",
       "    <tr>\n",
       "      <th>sulphates</th>\n",
       "      <td>0.060939</td>\n",
       "    </tr>\n",
       "    <tr>\n",
       "      <th>free sulfur dioxide</th>\n",
       "      <td>0.042698</td>\n",
       "    </tr>\n",
       "    <tr>\n",
       "      <th>total sulfur dioxide</th>\n",
       "      <td>0.012969</td>\n",
       "    </tr>\n",
       "    <tr>\n",
       "      <th>chlorides</th>\n",
       "      <td>0.006933</td>\n",
       "    </tr>\n",
       "    <tr>\n",
       "      <th>citric acid</th>\n",
       "      <td>-0.000000</td>\n",
       "    </tr>\n",
       "    <tr>\n",
       "      <th>volatile acidity</th>\n",
       "      <td>-0.192049</td>\n",
       "    </tr>\n",
       "    <tr>\n",
       "      <th>density</th>\n",
       "      <td>-0.648161</td>\n",
       "    </tr>\n",
       "  </tbody>\n",
       "</table>\n",
       "</div>"
      ],
      "text/plain": [
       "                      Coefficients\n",
       "residual sugar            0.526883\n",
       "pH                        0.146549\n",
       "alcohol                   0.137115\n",
       "fixed acidity             0.093295\n",
       "sulphates                 0.060939\n",
       "free sulfur dioxide       0.042698\n",
       "total sulfur dioxide      0.012969\n",
       "chlorides                 0.006933\n",
       "citric acid              -0.000000\n",
       "volatile acidity         -0.192049\n",
       "density                  -0.648161"
      ]
     },
     "execution_count": 39,
     "metadata": {},
     "output_type": "execute_result"
    }
   ],
   "source": [
    "lasso_cv_coeffs.sort_values(by=['Coefficients'], ascending=False, axis=0)"
   ]
  },
  {
   "cell_type": "markdown",
   "id": "c4f68fe4",
   "metadata": {},
   "source": [
    "citric acid is the least informative"
   ]
  },
  {
   "cell_type": "markdown",
   "id": "a9d42f97",
   "metadata": {},
   "source": [
    "# Task 4"
   ]
  },
  {
   "cell_type": "code",
   "execution_count": 40,
   "id": "e83a89c0",
   "metadata": {},
   "outputs": [],
   "source": [
    "y_train_predicted_lasso_cv = lasso_cv.predict(X_train_scaled)"
   ]
  },
  {
   "cell_type": "code",
   "execution_count": 41,
   "id": "1e555b0f",
   "metadata": {},
   "outputs": [
    {
     "data": {
      "text/plain": [
       "0.558070014187378"
      ]
     },
     "execution_count": 41,
     "metadata": {},
     "output_type": "execute_result"
    }
   ],
   "source": [
    "mean_squared_error(y_train, y_train_predicted_lasso_cv)"
   ]
  },
  {
   "cell_type": "code",
   "execution_count": 42,
   "id": "52d8da83",
   "metadata": {},
   "outputs": [],
   "source": [
    "y_test_predicted_lasso_cv = lasso_cv.predict(X_test_scaled)"
   ]
  },
  {
   "cell_type": "code",
   "execution_count": 43,
   "id": "bdde0bf1",
   "metadata": {},
   "outputs": [
    {
     "data": {
      "text/plain": [
       "0.5832976077860635"
      ]
     },
     "execution_count": 43,
     "metadata": {},
     "output_type": "execute_result"
    }
   ],
   "source": [
    "mean_squared_error(y_test, y_test_predicted_lasso_cv)"
   ]
  },
  {
   "cell_type": "markdown",
   "id": "4fc6cc1a",
   "metadata": {},
   "source": [
    "# Task 5"
   ]
  },
  {
   "cell_type": "code",
   "execution_count": 44,
   "id": "4e1ea06b",
   "metadata": {},
   "outputs": [
    {
     "data": {
      "text/plain": [
       "RandomForestRegressor(random_state=17)"
      ]
     },
     "execution_count": 44,
     "metadata": {},
     "output_type": "execute_result"
    }
   ],
   "source": [
    "forest = RandomForestRegressor(random_state=17)\n",
    "forest.fit(X_train_scaled, y_train)"
   ]
  },
  {
   "cell_type": "code",
   "execution_count": 45,
   "id": "7c2861e4",
   "metadata": {},
   "outputs": [],
   "source": [
    "y_train_predicted_rf = forest.predict(X_train_scaled)"
   ]
  },
  {
   "cell_type": "code",
   "execution_count": 46,
   "id": "a2938aab",
   "metadata": {},
   "outputs": [
    {
     "data": {
      "text/plain": [
       "0.9331049541768827"
      ]
     },
     "execution_count": 46,
     "metadata": {},
     "output_type": "execute_result"
    }
   ],
   "source": [
    "forest.score(X_train_scaled, y_train)"
   ]
  },
  {
   "cell_type": "code",
   "execution_count": 47,
   "id": "b16c241d",
   "metadata": {},
   "outputs": [
    {
     "data": {
      "text/plain": [
       "0.05261155192532089"
      ]
     },
     "execution_count": 47,
     "metadata": {},
     "output_type": "execute_result"
    }
   ],
   "source": [
    "mean_squared_error(y_train_predicted_rf, y_train)"
   ]
  },
  {
   "cell_type": "markdown",
   "id": "3e4b019b",
   "metadata": {},
   "source": [
    "mean squared error on the training dataset"
   ]
  },
  {
   "cell_type": "code",
   "execution_count": 48,
   "id": "611c45c0",
   "metadata": {},
   "outputs": [
    {
     "data": {
      "text/plain": [
       "GridSearchCV(estimator=RandomForestRegressor(random_state=17), param_grid={},\n",
       "             scoring='neg_mean_squared_error')"
      ]
     },
     "execution_count": 48,
     "metadata": {},
     "output_type": "execute_result"
    }
   ],
   "source": [
    "param_grid = {}\n",
    "\n",
    "cv_rf = GridSearchCV(estimator=RandomForestRegressor(random_state=17), param_grid=param_grid, scoring='neg_mean_squared_error')\n",
    "cv_rf.fit(X_train_scaled, y_train)"
   ]
  },
  {
   "cell_type": "code",
   "execution_count": 49,
   "id": "2f1831ad",
   "metadata": {},
   "outputs": [
    {
     "data": {
      "text/plain": [
       "-0.05261155192532089"
      ]
     },
     "execution_count": 49,
     "metadata": {},
     "output_type": "execute_result"
    }
   ],
   "source": [
    "cv_rf.score(X_train_scaled, y_train)"
   ]
  },
  {
   "cell_type": "code",
   "execution_count": 50,
   "id": "8f698ca2",
   "metadata": {},
   "outputs": [],
   "source": [
    "y_train_predicted_cv_rf = cv_rf.predict(X_train_scaled)"
   ]
  },
  {
   "cell_type": "code",
   "execution_count": 66,
   "id": "a0bcc80e",
   "metadata": {},
   "outputs": [
    {
     "data": {
      "text/plain": [
       "0.4142003732204039"
      ]
     },
     "execution_count": 66,
     "metadata": {},
     "output_type": "execute_result"
    }
   ],
   "source": [
    "np.mean(np.abs(cross_val_score(forest, X_train_scaled, y_train, scoring='neg_mean_squared_error')))"
   ]
  },
  {
   "cell_type": "markdown",
   "id": "ed844216",
   "metadata": {},
   "source": [
    "mean squared error on the training dataset with cv"
   ]
  },
  {
   "cell_type": "code",
   "execution_count": 52,
   "id": "bec9451b",
   "metadata": {},
   "outputs": [],
   "source": [
    "y_test_predicted_rf = forest.predict(X_test_scaled)"
   ]
  },
  {
   "cell_type": "code",
   "execution_count": 53,
   "id": "dc8bbdea",
   "metadata": {},
   "outputs": [
    {
     "data": {
      "text/plain": [
       "0.5228454960179294"
      ]
     },
     "execution_count": 53,
     "metadata": {},
     "output_type": "execute_result"
    }
   ],
   "source": [
    "forest.score(X_test_scaled, y_test)"
   ]
  },
  {
   "cell_type": "code",
   "execution_count": 54,
   "id": "71004a62",
   "metadata": {},
   "outputs": [
    {
     "data": {
      "text/plain": [
       "0.37163775510204083"
      ]
     },
     "execution_count": 54,
     "metadata": {},
     "output_type": "execute_result"
    }
   ],
   "source": [
    "mean_squared_error(y_test_predicted_rf, y_test)"
   ]
  },
  {
   "cell_type": "markdown",
   "id": "bda8b9da",
   "metadata": {},
   "source": [
    "mean squared error on the test dataset"
   ]
  },
  {
   "cell_type": "markdown",
   "id": "7a28793a",
   "metadata": {},
   "source": [
    "# Task 6"
   ]
  },
  {
   "cell_type": "code",
   "execution_count": 57,
   "id": "ade2ca21",
   "metadata": {},
   "outputs": [
    {
     "name": "stdout",
     "output_type": "stream",
     "text": [
      "Fitting 5 folds for each of 90 candidates, totalling 450 fits\n"
     ]
    },
    {
     "data": {
      "text/plain": [
       "GridSearchCV(cv=5, estimator=RandomForestRegressor(n_jobs=-1, random_state=17),\n",
       "             n_jobs=-1,\n",
       "             param_grid={'max_depth': [10, 11, 12, 13, 14, 15, 16, 17, 18, 19,\n",
       "                                       20, 21, 22, 23, 24],\n",
       "                         'max_features': [6, 7, 8, 9, 10, 11]},\n",
       "             scoring='neg_mean_squared_error', verbose=True)"
      ]
     },
     "execution_count": 57,
     "metadata": {},
     "output_type": "execute_result"
    }
   ],
   "source": [
    "forest_params = {'max_depth': list(range(10, 25)), \n",
    "                 'max_features': list(range(6,12))}\n",
    "\n",
    "locally_best_forest = GridSearchCV(estimator=RandomForestRegressor(random_state=17, n_jobs=-1),\n",
    "                                   param_grid=forest_params, scoring='neg_mean_squared_error',\n",
    "                                   n_jobs=-1, \n",
    "                                   cv=5, \n",
    "                                   verbose=True)\n",
    "locally_best_forest.fit(X_train_scaled, y_train)"
   ]
  },
  {
   "cell_type": "code",
   "execution_count": 58,
   "id": "16f8f84b",
   "metadata": {},
   "outputs": [
    {
     "data": {
      "text/plain": [
       "({'max_depth': 21, 'max_features': 6}, -0.39773288191505934)"
      ]
     },
     "execution_count": 58,
     "metadata": {},
     "output_type": "execute_result"
    }
   ],
   "source": [
    "locally_best_forest.best_params_, locally_best_forest.best_score_"
   ]
  },
  {
   "cell_type": "code",
   "execution_count": 62,
   "id": "9e5f7316",
   "metadata": {},
   "outputs": [
    {
     "name": "stdout",
     "output_type": "stream",
     "text": [
      "Mean squared error (cv): 0.398\n",
      "Mean squared error (test): 0.366\n"
     ]
    }
   ],
   "source": [
    "print(\"Mean squared error (cv): %.3f\" % np.mean(np.abs(cross_val_score(locally_best_forest.best_estimator_,\n",
    "                                                        X_train_scaled,\n",
    "                                                        y_train,\n",
    "                                                        scoring='neg_mean_squared_error'))))\n",
    "print(\"Mean squared error (test): %.3f\" % mean_squared_error(locally_best_forest.predict(X_test_scaled), y_test))"
   ]
  },
  {
   "cell_type": "markdown",
   "id": "8f71ca7e",
   "metadata": {},
   "source": [
    "# Task 7"
   ]
  },
  {
   "cell_type": "code",
   "execution_count": 63,
   "id": "30ef4624",
   "metadata": {},
   "outputs": [],
   "source": [
    "rf_importance = pd.DataFrame(forest.feature_importances_, X.columns, columns=['Coefficients'])"
   ]
  },
  {
   "cell_type": "code",
   "execution_count": 64,
   "id": "eb37a138",
   "metadata": {},
   "outputs": [
    {
     "name": "stdout",
     "output_type": "stream",
     "text": [
      "                      Coefficients\n",
      "fixed acidity             0.061918\n",
      "volatile acidity          0.125960\n",
      "citric acid               0.058904\n",
      "residual sugar            0.070903\n",
      "chlorides                 0.063729\n",
      "free sulfur dioxide       0.116562\n",
      "total sulfur dioxide      0.067204\n",
      "density                   0.056540\n",
      "pH                        0.071950\n",
      "sulphates                 0.059056\n",
      "alcohol                   0.247273\n"
     ]
    }
   ],
   "source": [
    "print(rf_importance)"
   ]
  },
  {
   "cell_type": "code",
   "execution_count": 65,
   "id": "584ea075",
   "metadata": {},
   "outputs": [
    {
     "data": {
      "text/html": [
       "<div>\n",
       "<style scoped>\n",
       "    .dataframe tbody tr th:only-of-type {\n",
       "        vertical-align: middle;\n",
       "    }\n",
       "\n",
       "    .dataframe tbody tr th {\n",
       "        vertical-align: top;\n",
       "    }\n",
       "\n",
       "    .dataframe thead th {\n",
       "        text-align: right;\n",
       "    }\n",
       "</style>\n",
       "<table border=\"1\" class=\"dataframe\">\n",
       "  <thead>\n",
       "    <tr style=\"text-align: right;\">\n",
       "      <th></th>\n",
       "      <th>Coefficients</th>\n",
       "    </tr>\n",
       "  </thead>\n",
       "  <tbody>\n",
       "    <tr>\n",
       "      <th>alcohol</th>\n",
       "      <td>0.247273</td>\n",
       "    </tr>\n",
       "    <tr>\n",
       "      <th>volatile acidity</th>\n",
       "      <td>0.125960</td>\n",
       "    </tr>\n",
       "    <tr>\n",
       "      <th>free sulfur dioxide</th>\n",
       "      <td>0.116562</td>\n",
       "    </tr>\n",
       "    <tr>\n",
       "      <th>pH</th>\n",
       "      <td>0.071950</td>\n",
       "    </tr>\n",
       "    <tr>\n",
       "      <th>residual sugar</th>\n",
       "      <td>0.070903</td>\n",
       "    </tr>\n",
       "    <tr>\n",
       "      <th>total sulfur dioxide</th>\n",
       "      <td>0.067204</td>\n",
       "    </tr>\n",
       "    <tr>\n",
       "      <th>chlorides</th>\n",
       "      <td>0.063729</td>\n",
       "    </tr>\n",
       "    <tr>\n",
       "      <th>fixed acidity</th>\n",
       "      <td>0.061918</td>\n",
       "    </tr>\n",
       "    <tr>\n",
       "      <th>sulphates</th>\n",
       "      <td>0.059056</td>\n",
       "    </tr>\n",
       "    <tr>\n",
       "      <th>citric acid</th>\n",
       "      <td>0.058904</td>\n",
       "    </tr>\n",
       "    <tr>\n",
       "      <th>density</th>\n",
       "      <td>0.056540</td>\n",
       "    </tr>\n",
       "  </tbody>\n",
       "</table>\n",
       "</div>"
      ],
      "text/plain": [
       "                      Coefficients\n",
       "alcohol                   0.247273\n",
       "volatile acidity          0.125960\n",
       "free sulfur dioxide       0.116562\n",
       "pH                        0.071950\n",
       "residual sugar            0.070903\n",
       "total sulfur dioxide      0.067204\n",
       "chlorides                 0.063729\n",
       "fixed acidity             0.061918\n",
       "sulphates                 0.059056\n",
       "citric acid               0.058904\n",
       "density                   0.056540"
      ]
     },
     "execution_count": 65,
     "metadata": {},
     "output_type": "execute_result"
    }
   ],
   "source": [
    "rf_importance.sort_values(by=['Coefficients'], ascending=False, axis=0)"
   ]
  },
  {
   "cell_type": "markdown",
   "id": "cd3aa4ae",
   "metadata": {},
   "source": [
    "according to the survey, alcohol is the most important factor"
   ]
  },
  {
   "cell_type": "markdown",
   "id": "4f8cef6b",
   "metadata": {},
   "source": [
    "our research shows that random forest is the best model for solving wine quality problem"
   ]
  },
  {
   "cell_type": "code",
   "execution_count": null,
   "id": "48b03196",
   "metadata": {},
   "outputs": [],
   "source": []
  }
 ],
 "metadata": {
  "kernelspec": {
   "display_name": "Python 3 (ipykernel)",
   "language": "python",
   "name": "python3"
  },
  "language_info": {
   "codemirror_mode": {
    "name": "ipython",
    "version": 3
   },
   "file_extension": ".py",
   "mimetype": "text/x-python",
   "name": "python",
   "nbconvert_exporter": "python",
   "pygments_lexer": "ipython3",
   "version": "3.9.12"
  }
 },
 "nbformat": 4,
 "nbformat_minor": 5
}
