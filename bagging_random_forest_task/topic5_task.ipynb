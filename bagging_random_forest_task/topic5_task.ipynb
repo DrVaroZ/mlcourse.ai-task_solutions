{
 "cells": [
  {
   "cell_type": "code",
   "execution_count": 1,
   "id": "4bd56a43",
   "metadata": {},
   "outputs": [],
   "source": [
    "# Disable warnings in Anaconda\n",
    "import warnings\n",
    "\n",
    "warnings.filterwarnings(\"ignore\")\n",
    "\n",
    "import numpy as np\n",
    "import pandas as pd\n",
    "\n",
    "%matplotlib inline\n",
    "import matplotlib.pyplot as plt\n",
    "import seaborn as sns\n",
    "\n",
    "sns.set()"
   ]
  },
  {
   "cell_type": "code",
   "execution_count": 2,
   "id": "ebff44de",
   "metadata": {},
   "outputs": [],
   "source": [
    "from matplotlib import rcParams\n",
    "\n",
    "rcParams[\"figure.figsize\"] = 11, 8"
   ]
  },
  {
   "cell_type": "code",
   "execution_count": 3,
   "id": "79ee0ca7",
   "metadata": {},
   "outputs": [],
   "source": [
    "def fill_nan(table):\n",
    "    for col in table.columns:\n",
    "        table[col] = table[col].fillna(table[col].median())\n",
    "    return table"
   ]
  },
  {
   "cell_type": "code",
   "execution_count": 4,
   "id": "3b676396",
   "metadata": {},
   "outputs": [],
   "source": [
    "# for Jupyter-book, we copy data from GitHub, locally, to save Internet traffic,\n",
    "# you can specify the data/ folder from the root of your cloned\n",
    "# https://github.com/Yorko/mlcourse.ai repo, to save Internet traffic\n",
    "DATA_PATH = \"https://raw.githubusercontent.com/Yorko/mlcourse.ai/master/data/\""
   ]
  },
  {
   "cell_type": "code",
   "execution_count": 5,
   "id": "e897cc9d",
   "metadata": {},
   "outputs": [
    {
     "data": {
      "text/html": [
       "<div>\n",
       "<style scoped>\n",
       "    .dataframe tbody tr th:only-of-type {\n",
       "        vertical-align: middle;\n",
       "    }\n",
       "\n",
       "    .dataframe tbody tr th {\n",
       "        vertical-align: top;\n",
       "    }\n",
       "\n",
       "    .dataframe thead th {\n",
       "        text-align: right;\n",
       "    }\n",
       "</style>\n",
       "<table border=\"1\" class=\"dataframe\">\n",
       "  <thead>\n",
       "    <tr style=\"text-align: right;\">\n",
       "      <th></th>\n",
       "      <th>SeriousDlqin2yrs</th>\n",
       "      <th>age</th>\n",
       "      <th>NumberOfTime30-59DaysPastDueNotWorse</th>\n",
       "      <th>DebtRatio</th>\n",
       "      <th>NumberOfTimes90DaysLate</th>\n",
       "      <th>NumberOfTime60-89DaysPastDueNotWorse</th>\n",
       "      <th>MonthlyIncome</th>\n",
       "      <th>NumberOfDependents</th>\n",
       "    </tr>\n",
       "  </thead>\n",
       "  <tbody>\n",
       "    <tr>\n",
       "      <th>0</th>\n",
       "      <td>0</td>\n",
       "      <td>64</td>\n",
       "      <td>0</td>\n",
       "      <td>0.249908</td>\n",
       "      <td>0</td>\n",
       "      <td>0</td>\n",
       "      <td>8158.0</td>\n",
       "      <td>0.0</td>\n",
       "    </tr>\n",
       "    <tr>\n",
       "      <th>1</th>\n",
       "      <td>0</td>\n",
       "      <td>58</td>\n",
       "      <td>0</td>\n",
       "      <td>3870.000000</td>\n",
       "      <td>0</td>\n",
       "      <td>0</td>\n",
       "      <td>NaN</td>\n",
       "      <td>0.0</td>\n",
       "    </tr>\n",
       "    <tr>\n",
       "      <th>2</th>\n",
       "      <td>0</td>\n",
       "      <td>41</td>\n",
       "      <td>0</td>\n",
       "      <td>0.456127</td>\n",
       "      <td>0</td>\n",
       "      <td>0</td>\n",
       "      <td>6666.0</td>\n",
       "      <td>0.0</td>\n",
       "    </tr>\n",
       "    <tr>\n",
       "      <th>3</th>\n",
       "      <td>0</td>\n",
       "      <td>43</td>\n",
       "      <td>0</td>\n",
       "      <td>0.000190</td>\n",
       "      <td>0</td>\n",
       "      <td>0</td>\n",
       "      <td>10500.0</td>\n",
       "      <td>2.0</td>\n",
       "    </tr>\n",
       "    <tr>\n",
       "      <th>4</th>\n",
       "      <td>1</td>\n",
       "      <td>49</td>\n",
       "      <td>0</td>\n",
       "      <td>0.271820</td>\n",
       "      <td>0</td>\n",
       "      <td>0</td>\n",
       "      <td>400.0</td>\n",
       "      <td>0.0</td>\n",
       "    </tr>\n",
       "  </tbody>\n",
       "</table>\n",
       "</div>"
      ],
      "text/plain": [
       "   SeriousDlqin2yrs  age  NumberOfTime30-59DaysPastDueNotWorse    DebtRatio  \\\n",
       "0                 0   64                                     0     0.249908   \n",
       "1                 0   58                                     0  3870.000000   \n",
       "2                 0   41                                     0     0.456127   \n",
       "3                 0   43                                     0     0.000190   \n",
       "4                 1   49                                     0     0.271820   \n",
       "\n",
       "   NumberOfTimes90DaysLate  NumberOfTime60-89DaysPastDueNotWorse  \\\n",
       "0                        0                                     0   \n",
       "1                        0                                     0   \n",
       "2                        0                                     0   \n",
       "3                        0                                     0   \n",
       "4                        0                                     0   \n",
       "\n",
       "   MonthlyIncome  NumberOfDependents  \n",
       "0         8158.0                 0.0  \n",
       "1            NaN                 0.0  \n",
       "2         6666.0                 0.0  \n",
       "3        10500.0                 2.0  \n",
       "4          400.0                 0.0  "
      ]
     },
     "execution_count": 5,
     "metadata": {},
     "output_type": "execute_result"
    }
   ],
   "source": [
    "data = pd.read_csv(DATA_PATH + \"credit_scoring_sample.csv\", sep=\";\")\n",
    "data.head()"
   ]
  },
  {
   "cell_type": "code",
   "execution_count": 6,
   "id": "523ed941",
   "metadata": {},
   "outputs": [
    {
     "data": {
      "text/plain": [
       "SeriousDlqin2yrs                          int64\n",
       "age                                       int64\n",
       "NumberOfTime30-59DaysPastDueNotWorse      int64\n",
       "DebtRatio                               float64\n",
       "NumberOfTimes90DaysLate                   int64\n",
       "NumberOfTime60-89DaysPastDueNotWorse      int64\n",
       "MonthlyIncome                           float64\n",
       "NumberOfDependents                      float64\n",
       "dtype: object"
      ]
     },
     "execution_count": 6,
     "metadata": {},
     "output_type": "execute_result"
    }
   ],
   "source": [
    "data.dtypes"
   ]
  },
  {
   "cell_type": "code",
   "execution_count": 7,
   "id": "c0f34974",
   "metadata": {},
   "outputs": [
    {
     "name": "stdout",
     "output_type": "stream",
     "text": [
      "Distribution of the target:\n"
     ]
    },
    {
     "data": {
      "text/plain": [
       "0    0.777511\n",
       "1    0.222489\n",
       "Name: SeriousDlqin2yrs, dtype: float64"
      ]
     },
     "execution_count": 7,
     "metadata": {},
     "output_type": "execute_result"
    },
    {
     "data": {
      "image/png": "[encoded data removed]",
      "text/plain": [
       "<Figure size 792x576 with 1 Axes>"
      ]
     },
     "metadata": {},
     "output_type": "display_data"
    }
   ],
   "source": [
    "ax = data[\"SeriousDlqin2yrs\"].hist(orientation=\"horizontal\", color=\"red\")\n",
    "ax.set_xlabel(\"number_of_observations\")\n",
    "ax.set_ylabel(\"unique_value\")\n",
    "ax.set_title(\"Target distribution\")\n",
    "\n",
    "print(\"Distribution of the target:\")\n",
    "data[\"SeriousDlqin2yrs\"].value_counts() / data.shape[0]"
   ]
  },
  {
   "cell_type": "code",
   "execution_count": 8,
   "id": "24ea996e",
   "metadata": {},
   "outputs": [
    {
     "data": {
      "text/plain": [
       "['age',\n",
       " 'NumberOfTime30-59DaysPastDueNotWorse',\n",
       " 'DebtRatio',\n",
       " 'NumberOfTimes90DaysLate',\n",
       " 'NumberOfTime60-89DaysPastDueNotWorse',\n",
       " 'MonthlyIncome',\n",
       " 'NumberOfDependents']"
      ]
     },
     "execution_count": 8,
     "metadata": {},
     "output_type": "execute_result"
    }
   ],
   "source": [
    "independent_columns_names = [x for x in data if x != \"SeriousDlqin2yrs\"]\n",
    "independent_columns_names"
   ]
  },
  {
   "cell_type": "code",
   "execution_count": 9,
   "id": "f35f0149",
   "metadata": {},
   "outputs": [],
   "source": [
    "table = fill_nan(data)"
   ]
  },
  {
   "cell_type": "code",
   "execution_count": 10,
   "id": "17b79ff9",
   "metadata": {},
   "outputs": [],
   "source": [
    "X = table[independent_columns_names]\n",
    "y = table[\"SeriousDlqin2yrs\"]"
   ]
  },
  {
   "cell_type": "markdown",
   "id": "e09f6853",
   "metadata": {},
   "source": [
    "# Task 2"
   ]
  },
  {
   "cell_type": "code",
   "execution_count": 11,
   "id": "08ac7ad3",
   "metadata": {},
   "outputs": [],
   "source": [
    "def get_bootstrap_samples(data, n_samples):\n",
    "    \"\"\"Generate bootstrap samples using the bootstrap method.\"\"\"\n",
    "    indices = np.random.randint(0, len(data), (n_samples, len(data)))\n",
    "    samples = data[indices]\n",
    "    return samples\n",
    "\n",
    "\n",
    "def stat_intervals(stat, alpha):\n",
    "    \"\"\"Produce an interval estimate.\"\"\"\n",
    "    boundaries = np.percentile(stat, [100 * alpha / 2.0, 100 * (1 - alpha / 2.0)])\n",
    "    return boundaries"
   ]
  },
  {
   "cell_type": "code",
   "execution_count": 12,
   "id": "22efa9b0",
   "metadata": {},
   "outputs": [
    {
     "data": {
      "text/plain": [
       "array([49, 31, 37, ..., 31, 38, 45], dtype=int64)"
      ]
     },
     "execution_count": 12,
     "metadata": {},
     "output_type": "execute_result"
    }
   ],
   "source": [
    "bad_costumers = table.loc[table[\"SeriousDlqin2yrs\"] == 1, \"age\"].values\n",
    "bad_costumers"
   ]
  },
  {
   "cell_type": "code",
   "execution_count": 13,
   "id": "75500037",
   "metadata": {},
   "outputs": [],
   "source": [
    "bad_costumers_mean_score = [\n",
    "    np.mean(sample) for sample in get_bootstrap_samples(bad_costumers, 1000)\n",
    "]"
   ]
  },
  {
   "cell_type": "code",
   "execution_count": 14,
   "id": "48fd9e97",
   "metadata": {},
   "outputs": [
    {
     "name": "stdout",
     "output_type": "stream",
     "text": [
      "Age of the bad costumers: mean interval [45.70083283 46.15171554]\n"
     ]
    }
   ],
   "source": [
    "print(\n",
    "    \"Age of the bad costumers: mean interval\", stat_intervals(bad_costumers_mean_score, 0.1)\n",
    ")"
   ]
  },
  {
   "cell_type": "markdown",
   "id": "3dc0dddf",
   "metadata": {},
   "source": [
    "# Task 3"
   ]
  },
  {
   "cell_type": "code",
   "execution_count": 15,
   "id": "e659c1c9",
   "metadata": {},
   "outputs": [],
   "source": [
    "from sklearn.linear_model import LogisticRegression\n",
    "from sklearn.model_selection import GridSearchCV, StratifiedKFold"
   ]
  },
  {
   "cell_type": "code",
   "execution_count": 16,
   "id": "8d06bf84",
   "metadata": {},
   "outputs": [],
   "source": [
    "lr = LogisticRegression(random_state=5, class_weight=\"balanced\")"
   ]
  },
  {
   "cell_type": "code",
   "execution_count": 17,
   "id": "0f87b033",
   "metadata": {},
   "outputs": [],
   "source": [
    "parameters = {\"C\": (0.0001, 0.001, 0.01, 0.1, 1, 10)}"
   ]
  },
  {
   "cell_type": "code",
   "execution_count": 18,
   "id": "3da978f4",
   "metadata": {},
   "outputs": [],
   "source": [
    "skf = StratifiedKFold(n_splits=5, shuffle=True, random_state=5)"
   ]
  },
  {
   "cell_type": "code",
   "execution_count": 19,
   "id": "f1d4902f",
   "metadata": {},
   "outputs": [
    {
     "name": "stdout",
     "output_type": "stream",
     "text": [
      "Fitting 5 folds for each of 6 candidates, totalling 30 fits\n"
     ]
    },
    {
     "data": {
      "text/plain": [
       "GridSearchCV(cv=StratifiedKFold(n_splits=5, random_state=5, shuffle=True),\n",
       "             estimator=LogisticRegression(class_weight='balanced',\n",
       "                                          random_state=5),\n",
       "             n_jobs=-1, param_grid={'C': (0.0001, 0.001, 0.01, 0.1, 1, 10)},\n",
       "             scoring='roc_auc', verbose=1)"
      ]
     },
     "execution_count": 19,
     "metadata": {},
     "output_type": "execute_result"
    }
   ],
   "source": [
    "gcv = GridSearchCV(lr, parameters, n_jobs=-1, cv=skf, verbose=1, scoring=\"roc_auc\")\n",
    "gcv.fit(X, y)"
   ]
  },
  {
   "cell_type": "code",
   "execution_count": 20,
   "id": "056ad03b",
   "metadata": {},
   "outputs": [
    {
     "data": {
      "text/plain": [
       "({'C': 0.001}, 0.8089120626797153)"
      ]
     },
     "execution_count": 20,
     "metadata": {},
     "output_type": "execute_result"
    }
   ],
   "source": [
    "gcv.best_params_, gcv.best_score_"
   ]
  },
  {
   "cell_type": "markdown",
   "id": "35016e80",
   "metadata": {},
   "source": [
    "# Task 4"
   ]
  },
  {
   "cell_type": "code",
   "execution_count": 21,
   "id": "4c8a2257",
   "metadata": {},
   "outputs": [
    {
     "data": {
      "text/plain": [
       "[0.795641657235426,\n",
       " 0.7919579255708674,\n",
       " 0.7935778798570889,\n",
       " 0.8217162638972105,\n",
       " 0.7939773206399929,\n",
       " 0.7939329383307814]"
      ]
     },
     "execution_count": 21,
     "metadata": {},
     "output_type": "execute_result"
    }
   ],
   "source": [
    "parameters_C = [0.0001, 0.001, 0.01, 0.1, 1, 10]\n",
    "scores_for_parameters = []\n",
    "for parameter in parameters_C:\n",
    "    #temp_gcv = GridSearchCV(lr, , n_jobs=-1, cv=skf, verbose=1, scoring=\"roc_auc\")\n",
    "    temp_lr = LogisticRegression(random_state=5, C=parameter, class_weight=\"balanced\")\n",
    "    temp_lr.fit(X, y)\n",
    "    scores_for_parameters.append(temp_lr.score(X, y))\n",
    "    \n",
    "scores_for_parameters"
   ]
  },
  {
   "cell_type": "code",
   "execution_count": 22,
   "id": "ed8681a3",
   "metadata": {},
   "outputs": [
    {
     "data": {
      "text/plain": [
       "0.010452251069460022"
      ]
     },
     "execution_count": 22,
     "metadata": {},
     "output_type": "execute_result"
    }
   ],
   "source": [
    "np.std(scores_for_parameters)"
   ]
  },
  {
   "cell_type": "markdown",
   "id": "3bddc502",
   "metadata": {},
   "source": [
    "GridSearchCV has attribute cv_results_(check sklearn documentation). It returns dictionary, so we get the result by this way."
   ]
  },
  {
   "cell_type": "code",
   "execution_count": 23,
   "id": "24e0115b",
   "metadata": {},
   "outputs": [
    {
     "data": {
      "text/plain": [
       "0.008137559189742445"
      ]
     },
     "execution_count": 23,
     "metadata": {},
     "output_type": "execute_result"
    }
   ],
   "source": [
    "gcv.cv_results_['std_test_score'][1]"
   ]
  },
  {
   "cell_type": "code",
   "execution_count": 24,
   "id": "bbc5dd0b",
   "metadata": {},
   "outputs": [
    {
     "data": {
      "text/plain": [
       "0.8089120626797153"
      ]
     },
     "execution_count": 24,
     "metadata": {},
     "output_type": "execute_result"
    }
   ],
   "source": [
    "gcv.best_score_"
   ]
  },
  {
   "cell_type": "markdown",
   "id": "7885bd21",
   "metadata": {},
   "source": [
    "# Task 5"
   ]
  },
  {
   "cell_type": "code",
   "execution_count": 25,
   "id": "c079a34d",
   "metadata": {},
   "outputs": [],
   "source": [
    "normalized_table=(table-table.mean())/table.std()\n",
    "# normalized_df=(table-table.min())/(table.max()-table.min())"
   ]
  },
  {
   "cell_type": "code",
   "execution_count": 26,
   "id": "dc203466",
   "metadata": {},
   "outputs": [
    {
     "name": "stdout",
     "output_type": "stream",
     "text": [
      "       SeriousDlqin2yrs       age  NumberOfTime30-59DaysPastDueNotWorse  \\\n",
      "0             -0.534928  0.872881                             -0.121431   \n",
      "1             -0.534928  0.463368                             -0.121431   \n",
      "2             -0.534928 -0.696920                             -0.121431   \n",
      "3             -0.534928 -0.560416                             -0.121431   \n",
      "4              1.869368 -0.150902                             -0.121431   \n",
      "...                 ...       ...                                   ...   \n",
      "45058          1.869368 -1.379443                             -0.121431   \n",
      "45059         -0.534928 -0.150902                             -0.121431   \n",
      "45060          1.869368 -0.901677                             -0.121431   \n",
      "45061         -0.534928 -0.287407                              0.040263   \n",
      "45062          1.869368 -0.423911                              0.201957   \n",
      "\n",
      "       DebtRatio  NumberOfTimes90DaysLate  \\\n",
      "0      -0.142575                -0.092451   \n",
      "1       1.425677                -0.092451   \n",
      "2      -0.142492                -0.092451   \n",
      "3      -0.142677                -0.092451   \n",
      "4      -0.142566                -0.092451   \n",
      "...          ...                      ...   \n",
      "45058  -0.142342                -0.092451   \n",
      "45059   2.503666                -0.092451   \n",
      "45060  -0.142484                -0.092451   \n",
      "45061  -0.142480                -0.092451   \n",
      "45062  -0.142351                -0.092451   \n",
      "\n",
      "       NumberOfTime60-89DaysPastDueNotWorse  MonthlyIncome  NumberOfDependents  \n",
      "0                                 -0.082207       0.171674           -0.685445  \n",
      "1                                 -0.082207      -0.091406           -0.685445  \n",
      "2                                 -0.082207       0.040485           -0.685445  \n",
      "3                                 -0.082207       0.377601            1.094804  \n",
      "4                                 -0.082207      -0.510470           -0.685445  \n",
      "...                                     ...            ...                 ...  \n",
      "45058                             -0.082207      -0.281858            0.204680  \n",
      "45059                             -0.082207      -0.545641            3.765179  \n",
      "45060                             -0.082207      -0.281858            1.094804  \n",
      "45061                             -0.082207       0.484872            3.765179  \n",
      "45062                             -0.082207       0.256260            1.094804  \n",
      "\n",
      "[45063 rows x 8 columns]\n"
     ]
    }
   ],
   "source": [
    "print(normalized_table)"
   ]
  },
  {
   "cell_type": "code",
   "execution_count": 27,
   "id": "12e86b4b",
   "metadata": {},
   "outputs": [],
   "source": [
    "y_normalized = normalized_table[\"SeriousDlqin2yrs\"]\n",
    "X_normalized = normalized_table.drop(['SeriousDlqin2yrs'], axis=1)\n",
    "normalized_lr = LogisticRegression(random_state=5, C=0.001, class_weight=\"balanced\")\n",
    "normalized_lr.fit(X, y)\n",
    "importance=normalized_lr.coef_\n",
    "importance=np.sort(importance)\n"
   ]
  },
  {
   "cell_type": "code",
   "execution_count": 28,
   "id": "8bd269f7",
   "metadata": {},
   "outputs": [
    {
     "data": {
      "text/plain": [
       "array([[-1.36555230e-02, -1.14783383e-05, -6.49390144e-06,\n",
       "         1.91726108e-01,  2.16038225e-01,  3.90380766e-01,\n",
       "         4.46832288e-01]])"
      ]
     },
     "execution_count": 28,
     "metadata": {},
     "output_type": "execute_result"
    }
   ],
   "source": [
    "importance"
   ]
  },
  {
   "cell_type": "code",
   "execution_count": 29,
   "id": "5d534f3f",
   "metadata": {},
   "outputs": [
    {
     "name": "stdout",
     "output_type": "stream",
     "text": [
      "Feature : 0 has score  : [-1.36555230e-02 -1.14783383e-05 -6.49390144e-06  1.91726108e-01\n",
      "  2.16038225e-01  3.90380766e-01  4.46832288e-01] \n"
     ]
    }
   ],
   "source": [
    "for index,val in enumerate(importance):\n",
    "    print(\"Feature : {} has score  : {} \".format(index,val))"
   ]
  },
  {
   "cell_type": "code",
   "execution_count": 30,
   "id": "5555f375",
   "metadata": {},
   "outputs": [
    {
     "data": {
      "text/html": [
       "<div>\n",
       "<style scoped>\n",
       "    .dataframe tbody tr th:only-of-type {\n",
       "        vertical-align: middle;\n",
       "    }\n",
       "\n",
       "    .dataframe tbody tr th {\n",
       "        vertical-align: top;\n",
       "    }\n",
       "\n",
       "    .dataframe thead th {\n",
       "        text-align: right;\n",
       "    }\n",
       "</style>\n",
       "<table border=\"1\" class=\"dataframe\">\n",
       "  <thead>\n",
       "    <tr style=\"text-align: right;\">\n",
       "      <th></th>\n",
       "      <th>Coefficients</th>\n",
       "    </tr>\n",
       "  </thead>\n",
       "  <tbody>\n",
       "    <tr>\n",
       "      <th>NumberOfDependents</th>\n",
       "      <td>0.446832</td>\n",
       "    </tr>\n",
       "    <tr>\n",
       "      <th>MonthlyIncome</th>\n",
       "      <td>0.390381</td>\n",
       "    </tr>\n",
       "    <tr>\n",
       "      <th>NumberOfTime60-89DaysPastDueNotWorse</th>\n",
       "      <td>0.216038</td>\n",
       "    </tr>\n",
       "    <tr>\n",
       "      <th>NumberOfTimes90DaysLate</th>\n",
       "      <td>0.191726</td>\n",
       "    </tr>\n",
       "    <tr>\n",
       "      <th>DebtRatio</th>\n",
       "      <td>-0.000006</td>\n",
       "    </tr>\n",
       "    <tr>\n",
       "      <th>NumberOfTime30-59DaysPastDueNotWorse</th>\n",
       "      <td>-0.000011</td>\n",
       "    </tr>\n",
       "    <tr>\n",
       "      <th>age</th>\n",
       "      <td>-0.013656</td>\n",
       "    </tr>\n",
       "  </tbody>\n",
       "</table>\n",
       "</div>"
      ],
      "text/plain": [
       "                                      Coefficients\n",
       "NumberOfDependents                        0.446832\n",
       "MonthlyIncome                             0.390381\n",
       "NumberOfTime60-89DaysPastDueNotWorse      0.216038\n",
       "NumberOfTimes90DaysLate                   0.191726\n",
       "DebtRatio                                -0.000006\n",
       "NumberOfTime30-59DaysPastDueNotWorse     -0.000011\n",
       "age                                      -0.013656"
      ]
     },
     "execution_count": 30,
     "metadata": {},
     "output_type": "execute_result"
    }
   ],
   "source": [
    "linreg_coeffs = pd.DataFrame(importance.transpose(), X_normalized.columns, columns=['Coefficients'])\n",
    "\n",
    "linreg_coeffs.sort_values(by=['Coefficients'], ascending=False, axis=0)"
   ]
  },
  {
   "cell_type": "code",
   "execution_count": 31,
   "id": "ea136cfc",
   "metadata": {},
   "outputs": [
    {
     "data": {
      "text/html": [
       "<div>\n",
       "<style scoped>\n",
       "    .dataframe tbody tr th:only-of-type {\n",
       "        vertical-align: middle;\n",
       "    }\n",
       "\n",
       "    .dataframe tbody tr th {\n",
       "        vertical-align: top;\n",
       "    }\n",
       "\n",
       "    .dataframe thead th {\n",
       "        text-align: right;\n",
       "    }\n",
       "</style>\n",
       "<table border=\"1\" class=\"dataframe\">\n",
       "  <thead>\n",
       "    <tr style=\"text-align: right;\">\n",
       "      <th></th>\n",
       "      <th>feat</th>\n",
       "      <th>coef</th>\n",
       "    </tr>\n",
       "  </thead>\n",
       "  <tbody>\n",
       "    <tr>\n",
       "      <th>1</th>\n",
       "      <td>NumberOfTime30-59DaysPastDueNotWorse</td>\n",
       "      <td>0.723427</td>\n",
       "    </tr>\n",
       "    <tr>\n",
       "      <th>3</th>\n",
       "      <td>NumberOfTimes90DaysLate</td>\n",
       "      <td>0.516788</td>\n",
       "    </tr>\n",
       "    <tr>\n",
       "      <th>4</th>\n",
       "      <td>NumberOfTime60-89DaysPastDueNotWorse</td>\n",
       "      <td>0.193558</td>\n",
       "    </tr>\n",
       "    <tr>\n",
       "      <th>6</th>\n",
       "      <td>NumberOfDependents</td>\n",
       "      <td>0.101443</td>\n",
       "    </tr>\n",
       "    <tr>\n",
       "      <th>2</th>\n",
       "      <td>DebtRatio</td>\n",
       "      <td>-0.024096</td>\n",
       "    </tr>\n",
       "    <tr>\n",
       "      <th>5</th>\n",
       "      <td>MonthlyIncome</td>\n",
       "      <td>-0.163146</td>\n",
       "    </tr>\n",
       "    <tr>\n",
       "      <th>0</th>\n",
       "      <td>age</td>\n",
       "      <td>-0.416702</td>\n",
       "    </tr>\n",
       "  </tbody>\n",
       "</table>\n",
       "</div>"
      ],
      "text/plain": [
       "                                   feat      coef\n",
       "1  NumberOfTime30-59DaysPastDueNotWorse  0.723427\n",
       "3               NumberOfTimes90DaysLate  0.516788\n",
       "4  NumberOfTime60-89DaysPastDueNotWorse  0.193558\n",
       "6                    NumberOfDependents  0.101443\n",
       "2                             DebtRatio -0.024096\n",
       "5                         MonthlyIncome -0.163146\n",
       "0                                   age -0.416702"
      ]
     },
     "execution_count": 31,
     "metadata": {},
     "output_type": "execute_result"
    }
   ],
   "source": [
    "from sklearn.preprocessing import StandardScaler\n",
    "lr = LogisticRegression(C=0.001, random_state=5, class_weight='balanced')\n",
    "scal = StandardScaler()\n",
    "lr.fit(scal.fit_transform(X), y)\n",
    "\n",
    "coeffs = pd.DataFrame({'feat': independent_columns_names,\n",
    "              'coef': lr.coef_.flatten().tolist()}).sort_values(by='coef', ascending=False)\n",
    "\n",
    "coeffs"
   ]
  },
  {
   "cell_type": "markdown",
   "id": "957de3bc",
   "metadata": {},
   "source": [
    "# Task 6"
   ]
  },
  {
   "cell_type": "code",
   "execution_count": 32,
   "id": "c4fa856f",
   "metadata": {},
   "outputs": [],
   "source": [
    "def softmax(x):\n",
    "    \"\"\"Compute softmax values for each sets of scores in x.\"\"\"\n",
    "    return np.exp(x) / np.sum(np.exp(x), axis=0)"
   ]
  },
  {
   "cell_type": "code",
   "execution_count": 33,
   "id": "cd785f72",
   "metadata": {},
   "outputs": [
    {
     "name": "stdout",
     "output_type": "stream",
     "text": [
      "[0.24129794 0.19625073 0.14204772 0.12954763 0.11426375 0.09943052\n",
      " 0.0771617 ]\n"
     ]
    }
   ],
   "source": [
    "scores = sorted(lr.coef_.flatten().tolist(), reverse=True)\n",
    "print(softmax(scores))"
   ]
  },
  {
   "cell_type": "markdown",
   "id": "2ce12451",
   "metadata": {},
   "source": [
    "The DebtRatio's impact is 0.11"
   ]
  },
  {
   "cell_type": "markdown",
   "id": "45e7849e",
   "metadata": {},
   "source": [
    "# Task 7"
   ]
  },
  {
   "cell_type": "code",
   "execution_count": 34,
   "id": "5a8e7c48",
   "metadata": {},
   "outputs": [],
   "source": [
    "lr_without_scaling = LogisticRegression(C=0.001, random_state=5, class_weight='balanced')\n",
    "lr_without_scaling.fit(X, y)\n",
    "\n",
    "coeffs_without_scaling = pd.DataFrame({'feat': independent_columns_names,\n",
    "              'coef': lr_without_scaling.coef_.flatten().tolist()}).sort_values(by='coef', ascending=False)"
   ]
  },
  {
   "cell_type": "code",
   "execution_count": 35,
   "id": "611ca143",
   "metadata": {},
   "outputs": [
    {
     "data": {
      "text/html": [
       "<div>\n",
       "<style scoped>\n",
       "    .dataframe tbody tr th:only-of-type {\n",
       "        vertical-align: middle;\n",
       "    }\n",
       "\n",
       "    .dataframe tbody tr th {\n",
       "        vertical-align: top;\n",
       "    }\n",
       "\n",
       "    .dataframe thead th {\n",
       "        text-align: right;\n",
       "    }\n",
       "</style>\n",
       "<table border=\"1\" class=\"dataframe\">\n",
       "  <thead>\n",
       "    <tr style=\"text-align: right;\">\n",
       "      <th></th>\n",
       "      <th>feat</th>\n",
       "      <th>coef</th>\n",
       "    </tr>\n",
       "  </thead>\n",
       "  <tbody>\n",
       "    <tr>\n",
       "      <th>1</th>\n",
       "      <td>NumberOfTime30-59DaysPastDueNotWorse</td>\n",
       "      <td>0.446832</td>\n",
       "    </tr>\n",
       "    <tr>\n",
       "      <th>3</th>\n",
       "      <td>NumberOfTimes90DaysLate</td>\n",
       "      <td>0.390381</td>\n",
       "    </tr>\n",
       "    <tr>\n",
       "      <th>4</th>\n",
       "      <td>NumberOfTime60-89DaysPastDueNotWorse</td>\n",
       "      <td>0.216038</td>\n",
       "    </tr>\n",
       "    <tr>\n",
       "      <th>6</th>\n",
       "      <td>NumberOfDependents</td>\n",
       "      <td>0.191726</td>\n",
       "    </tr>\n",
       "    <tr>\n",
       "      <th>2</th>\n",
       "      <td>DebtRatio</td>\n",
       "      <td>-0.000006</td>\n",
       "    </tr>\n",
       "    <tr>\n",
       "      <th>5</th>\n",
       "      <td>MonthlyIncome</td>\n",
       "      <td>-0.000011</td>\n",
       "    </tr>\n",
       "    <tr>\n",
       "      <th>0</th>\n",
       "      <td>age</td>\n",
       "      <td>-0.013656</td>\n",
       "    </tr>\n",
       "  </tbody>\n",
       "</table>\n",
       "</div>"
      ],
      "text/plain": [
       "                                   feat      coef\n",
       "1  NumberOfTime30-59DaysPastDueNotWorse  0.446832\n",
       "3               NumberOfTimes90DaysLate  0.390381\n",
       "4  NumberOfTime60-89DaysPastDueNotWorse  0.216038\n",
       "6                    NumberOfDependents  0.191726\n",
       "2                             DebtRatio -0.000006\n",
       "5                         MonthlyIncome -0.000011\n",
       "0                                   age -0.013656"
      ]
     },
     "execution_count": 35,
     "metadata": {},
     "output_type": "execute_result"
    }
   ],
   "source": [
    "coeffs_without_scaling"
   ]
  },
  {
   "cell_type": "code",
   "execution_count": 36,
   "id": "2ebf14be",
   "metadata": {},
   "outputs": [],
   "source": [
    "X_changed_age = X\n",
    "X_changed_age.loc[X_changed_age[\"age\"] > 0, \"age\"] += 20"
   ]
  },
  {
   "cell_type": "code",
   "execution_count": 37,
   "id": "af82acd8",
   "metadata": {},
   "outputs": [
    {
     "data": {
      "text/html": [
       "<div>\n",
       "<style scoped>\n",
       "    .dataframe tbody tr th:only-of-type {\n",
       "        vertical-align: middle;\n",
       "    }\n",
       "\n",
       "    .dataframe tbody tr th {\n",
       "        vertical-align: top;\n",
       "    }\n",
       "\n",
       "    .dataframe thead th {\n",
       "        text-align: right;\n",
       "    }\n",
       "</style>\n",
       "<table border=\"1\" class=\"dataframe\">\n",
       "  <thead>\n",
       "    <tr style=\"text-align: right;\">\n",
       "      <th></th>\n",
       "      <th>age</th>\n",
       "      <th>NumberOfTime30-59DaysPastDueNotWorse</th>\n",
       "      <th>DebtRatio</th>\n",
       "      <th>NumberOfTimes90DaysLate</th>\n",
       "      <th>NumberOfTime60-89DaysPastDueNotWorse</th>\n",
       "      <th>MonthlyIncome</th>\n",
       "      <th>NumberOfDependents</th>\n",
       "    </tr>\n",
       "  </thead>\n",
       "  <tbody>\n",
       "    <tr>\n",
       "      <th>0</th>\n",
       "      <td>84</td>\n",
       "      <td>0</td>\n",
       "      <td>0.249908</td>\n",
       "      <td>0</td>\n",
       "      <td>0</td>\n",
       "      <td>8158.0</td>\n",
       "      <td>0.0</td>\n",
       "    </tr>\n",
       "    <tr>\n",
       "      <th>1</th>\n",
       "      <td>78</td>\n",
       "      <td>0</td>\n",
       "      <td>3870.000000</td>\n",
       "      <td>0</td>\n",
       "      <td>0</td>\n",
       "      <td>5166.0</td>\n",
       "      <td>0.0</td>\n",
       "    </tr>\n",
       "    <tr>\n",
       "      <th>2</th>\n",
       "      <td>61</td>\n",
       "      <td>0</td>\n",
       "      <td>0.456127</td>\n",
       "      <td>0</td>\n",
       "      <td>0</td>\n",
       "      <td>6666.0</td>\n",
       "      <td>0.0</td>\n",
       "    </tr>\n",
       "    <tr>\n",
       "      <th>3</th>\n",
       "      <td>63</td>\n",
       "      <td>0</td>\n",
       "      <td>0.000190</td>\n",
       "      <td>0</td>\n",
       "      <td>0</td>\n",
       "      <td>10500.0</td>\n",
       "      <td>2.0</td>\n",
       "    </tr>\n",
       "    <tr>\n",
       "      <th>4</th>\n",
       "      <td>69</td>\n",
       "      <td>0</td>\n",
       "      <td>0.271820</td>\n",
       "      <td>0</td>\n",
       "      <td>0</td>\n",
       "      <td>400.0</td>\n",
       "      <td>0.0</td>\n",
       "    </tr>\n",
       "    <tr>\n",
       "      <th>...</th>\n",
       "      <td>...</td>\n",
       "      <td>...</td>\n",
       "      <td>...</td>\n",
       "      <td>...</td>\n",
       "      <td>...</td>\n",
       "      <td>...</td>\n",
       "      <td>...</td>\n",
       "    </tr>\n",
       "    <tr>\n",
       "      <th>45058</th>\n",
       "      <td>51</td>\n",
       "      <td>0</td>\n",
       "      <td>0.824725</td>\n",
       "      <td>0</td>\n",
       "      <td>0</td>\n",
       "      <td>3000.0</td>\n",
       "      <td>1.0</td>\n",
       "    </tr>\n",
       "    <tr>\n",
       "      <th>45059</th>\n",
       "      <td>69</td>\n",
       "      <td>0</td>\n",
       "      <td>6530.000000</td>\n",
       "      <td>0</td>\n",
       "      <td>0</td>\n",
       "      <td>0.0</td>\n",
       "      <td>5.0</td>\n",
       "    </tr>\n",
       "    <tr>\n",
       "      <th>45060</th>\n",
       "      <td>58</td>\n",
       "      <td>0</td>\n",
       "      <td>0.475841</td>\n",
       "      <td>0</td>\n",
       "      <td>0</td>\n",
       "      <td>3000.0</td>\n",
       "      <td>2.0</td>\n",
       "    </tr>\n",
       "    <tr>\n",
       "      <th>45061</th>\n",
       "      <td>67</td>\n",
       "      <td>1</td>\n",
       "      <td>0.485198</td>\n",
       "      <td>0</td>\n",
       "      <td>0</td>\n",
       "      <td>11720.0</td>\n",
       "      <td>5.0</td>\n",
       "    </tr>\n",
       "    <tr>\n",
       "      <th>45062</th>\n",
       "      <td>65</td>\n",
       "      <td>2</td>\n",
       "      <td>0.802982</td>\n",
       "      <td>0</td>\n",
       "      <td>0</td>\n",
       "      <td>9120.0</td>\n",
       "      <td>2.0</td>\n",
       "    </tr>\n",
       "  </tbody>\n",
       "</table>\n",
       "<p>45063 rows × 7 columns</p>\n",
       "</div>"
      ],
      "text/plain": [
       "       age  NumberOfTime30-59DaysPastDueNotWorse    DebtRatio  \\\n",
       "0       84                                     0     0.249908   \n",
       "1       78                                     0  3870.000000   \n",
       "2       61                                     0     0.456127   \n",
       "3       63                                     0     0.000190   \n",
       "4       69                                     0     0.271820   \n",
       "...    ...                                   ...          ...   \n",
       "45058   51                                     0     0.824725   \n",
       "45059   69                                     0  6530.000000   \n",
       "45060   58                                     0     0.475841   \n",
       "45061   67                                     1     0.485198   \n",
       "45062   65                                     2     0.802982   \n",
       "\n",
       "       NumberOfTimes90DaysLate  NumberOfTime60-89DaysPastDueNotWorse  \\\n",
       "0                            0                                     0   \n",
       "1                            0                                     0   \n",
       "2                            0                                     0   \n",
       "3                            0                                     0   \n",
       "4                            0                                     0   \n",
       "...                        ...                                   ...   \n",
       "45058                        0                                     0   \n",
       "45059                        0                                     0   \n",
       "45060                        0                                     0   \n",
       "45061                        0                                     0   \n",
       "45062                        0                                     0   \n",
       "\n",
       "       MonthlyIncome  NumberOfDependents  \n",
       "0             8158.0                 0.0  \n",
       "1             5166.0                 0.0  \n",
       "2             6666.0                 0.0  \n",
       "3            10500.0                 2.0  \n",
       "4              400.0                 0.0  \n",
       "...              ...                 ...  \n",
       "45058         3000.0                 1.0  \n",
       "45059            0.0                 5.0  \n",
       "45060         3000.0                 2.0  \n",
       "45061        11720.0                 5.0  \n",
       "45062         9120.0                 2.0  \n",
       "\n",
       "[45063 rows x 7 columns]"
      ]
     },
     "execution_count": 37,
     "metadata": {},
     "output_type": "execute_result"
    }
   ],
   "source": [
    "X_changed_age"
   ]
  },
  {
   "cell_type": "code",
   "execution_count": 38,
   "id": "9f39ffa9",
   "metadata": {},
   "outputs": [
    {
     "data": {
      "text/plain": [
       "LogisticRegression(C=0.001, class_weight='balanced', random_state=5)"
      ]
     },
     "execution_count": 38,
     "metadata": {},
     "output_type": "execute_result"
    }
   ],
   "source": [
    "lr_without_scaling.fit(X_changed_age, y)"
   ]
  },
  {
   "cell_type": "code",
   "execution_count": 39,
   "id": "def28a96",
   "metadata": {},
   "outputs": [
    {
     "data": {
      "text/plain": [
       "0.7987706100348401"
      ]
     },
     "execution_count": 39,
     "metadata": {},
     "output_type": "execute_result"
    }
   ],
   "source": [
    "lr_without_scaling.score(X_changed_age, y)"
   ]
  },
  {
   "cell_type": "markdown",
   "id": "5388d095",
   "metadata": {},
   "source": [
    "answer is 0.83 below"
   ]
  },
  {
   "cell_type": "code",
   "execution_count": 40,
   "id": "79ffbbbd",
   "metadata": {},
   "outputs": [
    {
     "data": {
      "text/plain": [
       "0.8347177130493252"
      ]
     },
     "execution_count": 40,
     "metadata": {},
     "output_type": "execute_result"
    }
   ],
   "source": [
    "np.exp(lr_without_scaling.coef_[0][0]*20)"
   ]
  },
  {
   "cell_type": "markdown",
   "id": "f91ec875",
   "metadata": {},
   "source": [
    "# Task 8"
   ]
  },
  {
   "cell_type": "code",
   "execution_count": 41,
   "id": "5504bbff",
   "metadata": {},
   "outputs": [],
   "source": [
    "from sklearn.ensemble import RandomForestClassifier"
   ]
  },
  {
   "cell_type": "code",
   "execution_count": 42,
   "id": "1473caae",
   "metadata": {},
   "outputs": [],
   "source": [
    "rf = RandomForestClassifier(\n",
    "    n_estimators=100, n_jobs=-1, random_state=42, class_weight=\"balanced\"\n",
    ")"
   ]
  },
  {
   "cell_type": "code",
   "execution_count": 43,
   "id": "9b4bd32f",
   "metadata": {},
   "outputs": [],
   "source": [
    "parameters = {\n",
    "    \"max_features\": [1, 2, 4],\n",
    "    \"min_samples_leaf\": [3, 5, 7, 9],\n",
    "    \"max_depth\": [5, 10, 15],\n",
    "}"
   ]
  },
  {
   "cell_type": "code",
   "execution_count": 44,
   "id": "606724bd",
   "metadata": {},
   "outputs": [
    {
     "name": "stdout",
     "output_type": "stream",
     "text": [
      "Fitting 5 folds for each of 36 candidates, totalling 180 fits\n"
     ]
    },
    {
     "data": {
      "text/plain": [
       "GridSearchCV(cv=StratifiedKFold(n_splits=5, random_state=5, shuffle=True),\n",
       "             estimator=RandomForestClassifier(class_weight='balanced',\n",
       "                                              n_jobs=-1, random_state=42),\n",
       "             n_jobs=-1,\n",
       "             param_grid={'max_depth': [5, 10, 15], 'max_features': [1, 2, 4],\n",
       "                         'min_samples_leaf': [3, 5, 7, 9]},\n",
       "             scoring='roc_auc', verbose=1)"
      ]
     },
     "execution_count": 44,
     "metadata": {},
     "output_type": "execute_result"
    }
   ],
   "source": [
    "gcv_rf = GridSearchCV(rf, parameters, n_jobs=-1, cv=skf, verbose=1, scoring=\"roc_auc\")\n",
    "gcv_rf.fit(X, y)"
   ]
  },
  {
   "cell_type": "code",
   "execution_count": 45,
   "id": "6c048259",
   "metadata": {},
   "outputs": [
    {
     "data": {
      "text/plain": [
       "({'max_depth': 10, 'max_features': 2, 'min_samples_leaf': 9},\n",
       " 0.8357785379863423)"
      ]
     },
     "execution_count": 45,
     "metadata": {},
     "output_type": "execute_result"
    }
   ],
   "source": [
    "gcv_rf.best_params_, gcv_rf.best_score_"
   ]
  },
  {
   "cell_type": "code",
   "execution_count": 46,
   "id": "9860bb0f",
   "metadata": {},
   "outputs": [
    {
     "name": "stdout",
     "output_type": "stream",
     "text": [
      "0.026866475306627002\n"
     ]
    }
   ],
   "source": [
    "print(gcv_rf.best_score_ - gcv.best_score_)"
   ]
  },
  {
   "cell_type": "code",
   "execution_count": 47,
   "id": "9abae7b5",
   "metadata": {},
   "outputs": [
    {
     "name": "stdout",
     "output_type": "stream",
     "text": [
      "0.043878537986342225\n"
     ]
    }
   ],
   "source": [
    "print(gcv_rf.best_score_ - 0.7919)"
   ]
  },
  {
   "cell_type": "markdown",
   "id": "d19ddade",
   "metadata": {},
   "source": [
    "with C=0.001 we get 0.04, but it is not the best. The best gives us 0.025"
   ]
  },
  {
   "cell_type": "markdown",
   "id": "cbcc11d2",
   "metadata": {},
   "source": [
    "# Task 9"
   ]
  },
  {
   "cell_type": "code",
   "execution_count": 48,
   "id": "795d3820",
   "metadata": {},
   "outputs": [
    {
     "data": {
      "text/plain": [
       "0.8154583582983823"
      ]
     },
     "execution_count": 48,
     "metadata": {},
     "output_type": "execute_result"
    }
   ],
   "source": [
    "rf = RandomForestClassifier(\n",
    "    n_estimators=100, n_jobs=-1, random_state=42, class_weight=\"balanced\",\n",
    "    max_depth=10, max_features=2, min_samples_leaf=9\n",
    ")\n",
    "rf.fit(X, y)\n",
    "rf.score(X, y)"
   ]
  },
  {
   "cell_type": "code",
   "execution_count": 49,
   "id": "3684868a",
   "metadata": {},
   "outputs": [],
   "source": [
    "importances_rf = pd.DataFrame({'feat': independent_columns_names,\n",
    "              'coef': rf.feature_importances_.flatten().tolist()}).sort_values(by='coef', ascending=False)"
   ]
  },
  {
   "cell_type": "code",
   "execution_count": 50,
   "id": "f4674ed7",
   "metadata": {},
   "outputs": [
    {
     "data": {
      "text/html": [
       "<div>\n",
       "<style scoped>\n",
       "    .dataframe tbody tr th:only-of-type {\n",
       "        vertical-align: middle;\n",
       "    }\n",
       "\n",
       "    .dataframe tbody tr th {\n",
       "        vertical-align: top;\n",
       "    }\n",
       "\n",
       "    .dataframe thead th {\n",
       "        text-align: right;\n",
       "    }\n",
       "</style>\n",
       "<table border=\"1\" class=\"dataframe\">\n",
       "  <thead>\n",
       "    <tr style=\"text-align: right;\">\n",
       "      <th></th>\n",
       "      <th>feat</th>\n",
       "      <th>coef</th>\n",
       "    </tr>\n",
       "  </thead>\n",
       "  <tbody>\n",
       "    <tr>\n",
       "      <th>1</th>\n",
       "      <td>NumberOfTime30-59DaysPastDueNotWorse</td>\n",
       "      <td>0.300290</td>\n",
       "    </tr>\n",
       "    <tr>\n",
       "      <th>3</th>\n",
       "      <td>NumberOfTimes90DaysLate</td>\n",
       "      <td>0.278749</td>\n",
       "    </tr>\n",
       "    <tr>\n",
       "      <th>4</th>\n",
       "      <td>NumberOfTime60-89DaysPastDueNotWorse</td>\n",
       "      <td>0.156534</td>\n",
       "    </tr>\n",
       "    <tr>\n",
       "      <th>0</th>\n",
       "      <td>age</td>\n",
       "      <td>0.115860</td>\n",
       "    </tr>\n",
       "    <tr>\n",
       "      <th>2</th>\n",
       "      <td>DebtRatio</td>\n",
       "      <td>0.076082</td>\n",
       "    </tr>\n",
       "    <tr>\n",
       "      <th>5</th>\n",
       "      <td>MonthlyIncome</td>\n",
       "      <td>0.057994</td>\n",
       "    </tr>\n",
       "    <tr>\n",
       "      <th>6</th>\n",
       "      <td>NumberOfDependents</td>\n",
       "      <td>0.014491</td>\n",
       "    </tr>\n",
       "  </tbody>\n",
       "</table>\n",
       "</div>"
      ],
      "text/plain": [
       "                                   feat      coef\n",
       "1  NumberOfTime30-59DaysPastDueNotWorse  0.300290\n",
       "3               NumberOfTimes90DaysLate  0.278749\n",
       "4  NumberOfTime60-89DaysPastDueNotWorse  0.156534\n",
       "0                                   age  0.115860\n",
       "2                             DebtRatio  0.076082\n",
       "5                         MonthlyIncome  0.057994\n",
       "6                    NumberOfDependents  0.014491"
      ]
     },
     "execution_count": 50,
     "metadata": {},
     "output_type": "execute_result"
    }
   ],
   "source": [
    "importances_rf"
   ]
  },
  {
   "cell_type": "markdown",
   "id": "4bc1cb53",
   "metadata": {},
   "source": [
    "NumberOfDependents has the weakest impact - 0.01"
   ]
  },
  {
   "cell_type": "markdown",
   "id": "7460b29d",
   "metadata": {},
   "source": [
    "# Task 10"
   ]
  },
  {
   "cell_type": "markdown",
   "id": "e354e8ad",
   "metadata": {},
   "source": [
    "Logistic regression is better interpretated than random forest"
   ]
  },
  {
   "cell_type": "markdown",
   "id": "43756d6d",
   "metadata": {},
   "source": [
    "# Task 11"
   ]
  },
  {
   "cell_type": "code",
   "execution_count": 105,
   "id": "fced83e9",
   "metadata": {},
   "outputs": [],
   "source": [
    "from sklearn.ensemble import BaggingClassifier\n",
    "from sklearn.model_selection import RandomizedSearchCV, cross_val_score\n",
    "\n",
    "parameters_cv = {\n",
    "    \"max_features\": [2, 3, 4],\n",
    "    \"max_samples\": [0.5, 0.7, 0.9],\n",
    "    \"base_estimator__C\": [0.0001, 0.001, 0.01, 1, 10, 100],\n",
    "}"
   ]
  },
  {
   "cell_type": "code",
   "execution_count": 106,
   "id": "f5d20a3c",
   "metadata": {},
   "outputs": [],
   "source": [
    "#log_regression = LogisticRegression(random_state=42, class_weight='balanced')"
   ]
  },
  {
   "cell_type": "code",
   "execution_count": 107,
   "id": "0c09d468",
   "metadata": {},
   "outputs": [],
   "source": [
    "#bagging_clf = BaggingClassifier(log_regression, n_estimators=100, random_state=42)"
   ]
  },
  {
   "cell_type": "code",
   "execution_count": 108,
   "id": "5d35ed4b",
   "metadata": {},
   "outputs": [],
   "source": [
    "randomized_cv = RandomizedSearchCV(BaggingClassifier(LogisticRegression(class_weight=\"balanced\"), n_estimators=100, random_state=42, n_jobs=-1), \n",
    "                                   parameters_cv, n_iter=20, n_jobs=-1, random_state=1, cv=5, scoring=\"roc_auc\", verbose=True)"
   ]
  },
  {
   "cell_type": "code",
   "execution_count": 109,
   "id": "e99ba63c",
   "metadata": {},
   "outputs": [
    {
     "name": "stdout",
     "output_type": "stream",
     "text": [
      "Fitting 5 folds for each of 20 candidates, totalling 100 fits\n"
     ]
    },
    {
     "data": {
      "text/plain": [
       "RandomizedSearchCV(cv=5,\n",
       "                   estimator=BaggingClassifier(base_estimator=LogisticRegression(class_weight='balanced'),\n",
       "                                               n_estimators=100, n_jobs=-1,\n",
       "                                               random_state=42),\n",
       "                   n_iter=20, n_jobs=-1,\n",
       "                   param_distributions={'base_estimator__C': [0.0001, 0.001,\n",
       "                                                              0.01, 1, 10,\n",
       "                                                              100],\n",
       "                                        'max_features': [2, 3, 4],\n",
       "                                        'max_samples': [0.5, 0.7, 0.9]},\n",
       "                   random_state=1, scoring='roc_auc', verbose=True)"
      ]
     },
     "execution_count": 109,
     "metadata": {},
     "output_type": "execute_result"
    }
   ],
   "source": [
    "#print(cross_val_score(randomized_cv, X, y, scoring=\"roc_auc\", cv=3))\n",
    "randomized_cv.fit(X, y)"
   ]
  },
  {
   "cell_type": "code",
   "execution_count": 110,
   "id": "5d369f8a",
   "metadata": {},
   "outputs": [
    {
     "data": {
      "text/plain": [
       "({'max_samples': 0.7, 'max_features': 2, 'base_estimator__C': 100},\n",
       " 0.8092965904943765)"
      ]
     },
     "execution_count": 110,
     "metadata": {},
     "output_type": "execute_result"
    }
   ],
   "source": [
    "randomized_cv.best_params_, randomized_cv.best_score_"
   ]
  },
  {
   "cell_type": "code",
   "execution_count": 111,
   "id": "e2a108b1",
   "metadata": {},
   "outputs": [
    {
     "data": {
      "text/plain": [
       "BaggingClassifier(base_estimator=LogisticRegression(C=100,\n",
       "                                                    class_weight='balanced'),\n",
       "                  max_features=2, max_samples=0.7, n_estimators=100, n_jobs=-1,\n",
       "                  random_state=42)"
      ]
     },
     "execution_count": 111,
     "metadata": {},
     "output_type": "execute_result"
    }
   ],
   "source": [
    "randomized_cv.best_estimator_"
   ]
  },
  {
   "cell_type": "markdown",
   "id": "c226246e",
   "metadata": {},
   "source": [
    "# Task 12"
   ]
  },
  {
   "cell_type": "markdown",
   "id": "a202811b",
   "metadata": {},
   "source": [
    "less correlation between single models"
   ]
  }
 ],
 "metadata": {
  "kernelspec": {
   "display_name": "Python 3 (ipykernel)",
   "language": "python",
   "name": "python3"
  },
  "language_info": {
   "codemirror_mode": {
    "name": "ipython",
    "version": 3
   },
   "file_extension": ".py",
   "mimetype": "text/x-python",
   "name": "python",
   "nbconvert_exporter": "python",
   "pygments_lexer": "ipython3",
   "version": "3.9.12"
  }
 },
 "nbformat": 4,
 "nbformat_minor": 5
}
